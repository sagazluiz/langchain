{
 "cells": [
  {
   "cell_type": "markdown",
   "id": "0b5fdc06",
   "metadata": {},
   "source": [
    "source: https://langchain-ai.github.io/langchain-benchmarks/notebooks/retrieval/semi_structured_benchmarking/ss_eval_chunk_sizes.html"
   ]
  },
  {
   "cell_type": "code",
   "execution_count": null,
   "id": "f13adb52",
   "metadata": {},
   "outputs": [],
   "source": []
  },
  {
   "cell_type": "markdown",
   "id": "da60a3d9",
   "metadata": {},
   "source": [
    "### Pre-requisites"
   ]
  },
  {
   "cell_type": "code",
   "execution_count": 2,
   "id": "af2cd0ab",
   "metadata": {
    "ExecuteTime": {
     "end_time": "2023-12-15T01:24:51.391082Z",
     "start_time": "2023-12-15T01:22:47.966736Z"
    },
    "scrolled": true
   },
   "outputs": [
    {
     "name": "stdout",
     "output_type": "stream",
     "text": [
      "Enter your LANGCHAIN_API_KEY: ········\n",
      "Enter your FIREWORKS_API_KEY: ········\n"
     ]
    }
   ],
   "source": [
    "import getpass\n",
    "import os\n",
    "\n",
    "os.environ[\"LANGCHAIN_ENDPOINT\"] = \"https://api.smith.langchain.com\"\n",
    "env_vars = [\"LANGCHAIN_API_KEY\", \"OPENAI_API_KEY\", \"FIREWORKS_API_KEY\"]\n",
    "for var in env_vars:\n",
    "    if var not in os.environ:\n",
    "        os.environ[var] = getpass.getpass(prompt=f\"Enter your {var}: \")"
   ]
  },
  {
   "cell_type": "markdown",
   "id": "dbaa2271",
   "metadata": {},
   "source": [
    "### Dataset\n",
    "Fetch the associated PDFs from remote cache for the dataset so that we can perform ingestion."
   ]
  },
  {
   "cell_type": "code",
   "execution_count": 4,
   "id": "b0f8bd16",
   "metadata": {
    "ExecuteTime": {
     "end_time": "2023-12-15T01:26:18.794914Z",
     "start_time": "2023-12-15T01:26:01.982742Z"
    }
   },
   "outputs": [
    {
     "name": "stdout",
     "output_type": "stream",
     "text": [
      "File /Users/r337555/anaconda3/envs/langchain/lib/python3.11/site-packages/langchain_benchmarks/rag/tasks/semi_structured_reports/indexing/semi_structured_earnings.zip does not exist. Downloading from GCS...\n",
      "File https://storage.googleapis.com/benchmarks-artifacts/langchain-docs-benchmarking/semi_structured_earnings.zip downloaded.\n"
     ]
    }
   ],
   "source": [
    "import os\n",
    "\n",
    "from langchain_benchmarks import clone_public_dataset, registry\n",
    "from langchain_benchmarks.rag.tasks.semi_structured_reports import get_file_names\n",
    "\n",
    "# Task\n",
    "task = registry[\"Semi-structured Reports\"]\n",
    "\n",
    "# Files used\n",
    "paths = list(get_file_names())\n",
    "files = [str(p) for p in paths]"
   ]
  },
  {
   "cell_type": "markdown",
   "id": "97653ffc",
   "metadata": {},
   "source": [
    "Clone the dataset so that it’s available in our LangSmith datasets.\n",
    "\n"
   ]
  },
  {
   "cell_type": "code",
   "execution_count": 5,
   "id": "28f1902b",
   "metadata": {
    "ExecuteTime": {
     "end_time": "2023-12-15T01:26:46.233930Z",
     "start_time": "2023-12-15T01:26:43.079260Z"
    }
   },
   "outputs": [
    {
     "data": {
      "application/vnd.jupyter.widget-view+json": {
       "model_id": "8a363fa9ebe74ba28390f8cb568e4dcd",
       "version_major": 2,
       "version_minor": 0
      },
      "text/plain": [
       "  0%|          | 0/30 [00:00<?, ?it/s]"
      ]
     },
     "metadata": {},
     "output_type": "display_data"
    },
    {
     "name": "stdout",
     "output_type": "stream",
     "text": [
      "Finished fetching examples. Creating dataset...\n",
      "New dataset created you can access it at https://smith.langchain.com/o/8088c1e2-0bd7-567f-a9a3-e89380e5cb42/datasets/0aba67b4-6e39-4f9d-b586-57a963cb724d.\n",
      "Done creating dataset.\n"
     ]
    }
   ],
   "source": [
    "clone_public_dataset(task.dataset_id, dataset_name=task.name)"
   ]
  },
  {
   "cell_type": "markdown",
   "id": "7000139f",
   "metadata": {},
   "source": [
    "### Load and index\n",
    "We load each file, split it, embed with OpenAIEmbeddings, and create an index with Chroma vectorstore."
   ]
  },
  {
   "cell_type": "code",
   "execution_count": 6,
   "id": "380a3c84",
   "metadata": {
    "ExecuteTime": {
     "end_time": "2023-12-15T01:28:18.829505Z",
     "start_time": "2023-12-15T01:27:22.927160Z"
    }
   },
   "outputs": [
    {
     "name": "stdout",
     "output_type": "stream",
     "text": [
      "There are 3 text elements\n",
      "There are 15 text elements\n",
      "There are 3 text elements\n",
      "There are 16 text elements\n",
      "There are 11 text elements\n",
      "There are 11 text elements\n",
      "There are 181 text elements\n",
      "There are 1454 text elements\n",
      "There are 197 text elements\n",
      "There are 521 text elements\n",
      "There are 284 text elements\n",
      "There are 287 text elements\n",
      "There are 59 text elements\n",
      "There are 77 text elements\n",
      "There are 67 text elements\n",
      "There are 285 text elements\n",
      "There are 146 text elements\n",
      "There are 130 text elements\n",
      "There are 15 text elements\n",
      "There are 27 text elements\n",
      "There are 17 text elements\n",
      "There are 74 text elements\n",
      "There are 41 text elements\n",
      "There are 38 text elements\n",
      "There are 15 text elements\n",
      "There are 27 text elements\n",
      "There are 17 text elements\n",
      "There are 74 text elements\n",
      "There are 41 text elements\n",
      "There are 38 text elements\n"
     ]
    }
   ],
   "source": [
    "from langchain.document_loaders import PyPDFLoader\n",
    "from langchain.text_splitter import RecursiveCharacterTextSplitter\n",
    "from langchain.vectorstores import Chroma\n",
    "from langchain.embeddings import OpenAIEmbeddings\n",
    "from langchain.chat_models import ChatOpenAI\n",
    "from langchain.prompts import ChatPromptTemplate\n",
    "from langchain.schema.output_parser import StrOutputParser\n",
    "from langchain.schema.runnable import RunnablePassthrough\n",
    "from langchain.chat_models import ChatFireworks\n",
    "from langchain.callbacks.manager import CallbackManager\n",
    "from langchain.callbacks.streaming_stdout import StreamingStdOutCallbackHandler\n",
    "\n",
    "\n",
    "def load_and_split(file, token_count, split_document=True):\n",
    "    \"\"\"\n",
    "    Load and optionally split PDF files.\n",
    "\n",
    "    Args:\n",
    "        file (str): File path.\n",
    "        token_count (int): Token count for splitting.\n",
    "        split_document (bool): Flag for splitting or returning pages.\n",
    "    \"\"\"\n",
    "\n",
    "    loader = PyPDFLoader(file)\n",
    "    pdf_pages = loader.load()\n",
    "\n",
    "    if split_document:\n",
    "        text_splitter = RecursiveCharacterTextSplitter.from_tiktoken_encoder(\n",
    "            chunk_size=token_count, chunk_overlap=50\n",
    "        )\n",
    "\n",
    "        docs = text_splitter.split_documents(pdf_pages)\n",
    "        texts = [d.page_content for d in docs]\n",
    "    else:\n",
    "        texts = [d.page_content for d in pdf_pages]\n",
    "\n",
    "    print(f\"There are {len(texts)} text elements\")\n",
    "    return texts\n",
    "\n",
    "\n",
    "def load_files(files, token_count, split_document):\n",
    "    \"\"\"\n",
    "    Load files.\n",
    "\n",
    "    Args:\n",
    "        files (list): List of file names.\n",
    "        dir (str): Directory path.\n",
    "        token_count (int): Token count for splitting.\n",
    "        split_document (bool): Flag for splitting documents.\n",
    "    \"\"\"\n",
    "\n",
    "    texts = []\n",
    "    for fi in files:\n",
    "        texts.extend(load_and_split(fi, token_count, split_document))\n",
    "    return texts\n",
    "\n",
    "\n",
    "def make_retriever(texts, expt):\n",
    "    \"\"\"\n",
    "    Make vector store.\n",
    "\n",
    "    Args:\n",
    "        texts (list): List of texts.\n",
    "        expt (str): Experiment name.\n",
    "    \"\"\"\n",
    "    vectorstore = Chroma.from_texts(\n",
    "        texts=texts, collection_name=expt, embedding=OpenAIEmbeddings()\n",
    "    )\n",
    "    retriever = vectorstore.as_retriever()\n",
    "    return retriever\n",
    "\n",
    "\n",
    "def rag_chain(retriever, llm):\n",
    "    \"\"\"\n",
    "    RAG chain.\n",
    "\n",
    "    Args:\n",
    "        retriever: The retriever to use.\n",
    "        llm: The llm to use.\n",
    "    \"\"\"\n",
    "\n",
    "    # Prompt template\n",
    "    template = \"\"\"Answer the question based only on the following context, which can include text and tables:\n",
    "    {context}\n",
    "    Question: {question}\n",
    "    \"\"\"\n",
    "    prompt = ChatPromptTemplate.from_template(template)\n",
    "\n",
    "    # LLM\n",
    "    if llm == \"mixtral\":\n",
    "        model = ChatFireworks(\n",
    "            model=\"accounts/fireworks/models/mixtral-8x7b-instruct\", temperature=0\n",
    "        )\n",
    "    else:\n",
    "        model = ChatOpenAI(temperature=0, model=\"gpt-4\")\n",
    "\n",
    "    # RAG pipeline\n",
    "    chain = (\n",
    "        {\n",
    "            \"context\": retriever | (lambda x: \"\\n\\n\".join([i.page_content for i in x])),\n",
    "            \"question\": RunnablePassthrough(),\n",
    "        }\n",
    "        | prompt\n",
    "        | model\n",
    "        | StrOutputParser()\n",
    "    )\n",
    "    return chain\n",
    "\n",
    "\n",
    "# Experiment configurations\n",
    "experiments = [\n",
    "    (None, False, \"page_split-oai\", \"oai\"),\n",
    "    (50, True, \"50_tok_split-oai\", \"oai\"),\n",
    "    (100, True, \"100_tok_split-oai\", \"oai\"),\n",
    "    (250, True, \"250_tok_split-oai\", \"oai\"),\n",
    "    (250, True, \"250_tok_split-mixtral\", \"mixtral\"),\n",
    "]\n",
    "\n",
    "# Run\n",
    "stor_chain = {}\n",
    "for token_count, split_document, expt, llm in experiments:\n",
    "    texts = load_files(files, token_count, split_document)\n",
    "    retriever = make_retriever(texts, expt)\n",
    "    stor_chain[expt] = rag_chain(retriever, llm)"
   ]
  },
  {
   "cell_type": "markdown",
   "id": "2209e0b2",
   "metadata": {},
   "source": [
    "### Eval\n",
    "Run eval onm our dataset, Semi-structured Reports."
   ]
  },
  {
   "cell_type": "code",
   "execution_count": 8,
   "id": "903f3b8c",
   "metadata": {
    "ExecuteTime": {
     "end_time": "2023-12-15T01:29:29.759897Z",
     "start_time": "2023-12-15T01:29:00.600001Z"
    },
    "scrolled": false
   },
   "outputs": [
    {
     "name": "stdout",
     "output_type": "stream",
     "text": [
      "View the evaluation results for project 'aa93-page_split' at:\n",
      "https://smith.langchain.com/o/8088c1e2-0bd7-567f-a9a3-e89380e5cb42/datasets/0aba67b4-6e39-4f9d-b586-57a963cb724d/compare?selectedSessions=aeee4da8-db04-4e63-ac87-6dfa9c26787e\n",
      "\n",
      "View all tests for Dataset Semi-structured Reports at:\n",
      "https://smith.langchain.com/o/8088c1e2-0bd7-567f-a9a3-e89380e5cb42/datasets/0aba67b4-6e39-4f9d-b586-57a963cb724d\n",
      "[>                                                 ] 0/28"
     ]
    },
    {
     "name": "stderr",
     "output_type": "stream",
     "text": [
      "Chain failed for example dbde8588-8b03-41e2-aa09-31ab0320ea88 with inputs {'Question': 'What was Datadog’s current and non-current deferred revenue as of September 30, 2023?'}\n",
      "Error Type: KeyError, Message: 'question'\n"
     ]
    },
    {
     "name": "stdout",
     "output_type": "stream",
     "text": [
      "\r",
      "[->                                                ] 1/28"
     ]
    },
    {
     "name": "stderr",
     "output_type": "stream",
     "text": [
      "Chain failed for example 45c1960f-674f-4fa8-8f2e-f04170dff3c8 with inputs {'Question': 'How much capitalized software development costs did Datadog report for the three months that ended September 30, 2023?'}\n",
      "Error Type: KeyError, Message: 'question'\n",
      "Chain failed for example 351d2a74-07f2-43b9-8077-a78106e21ae0 with inputs {'Question': 'Can you calculate the year-over-year percentage change in Datadog’s research and development spending for the three months ended September 30,2023?'}\n",
      "Error Type: KeyError, Message: 'question'\n",
      "Chain failed for example 80216a8b-cae9-43e3-9be6-57a6bfbaaa25 with inputs {'Question': 'How much did Datadog spend on research and development for the three months ended September 30,2023?'}\n",
      "Error Type: KeyError, Message: 'question'\n",
      "Chain failed for example 813ea2d1-4316-4bfb-b1b2-43b96d545cdf with inputs {'Question': \"What was Datadog's net income for the three months that ended September 30 in 2023 and 2022?\"}\n",
      "Error Type: KeyError, Message: 'question'\n"
     ]
    },
    {
     "name": "stdout",
     "output_type": "stream",
     "text": [
      "\r",
      "[--->                                              ] 2/28\r",
      "[---->                                             ] 3/28\r",
      "[------>                                           ] 4/28\r",
      "[-------->                                         ] 5/28"
     ]
    },
    {
     "name": "stderr",
     "output_type": "stream",
     "text": [
      "Chain failed for example bfc0311a-6d35-4b1c-bae0-d0e46707f849 with inputs {'Question': 'How many bank failures occurred between 2021 and 2023?'}\n",
      "Error Type: KeyError, Message: 'question'\n",
      "Chain failed for example f274198c-baa5-4eaa-b8d8-427f486024f8 with inputs {'Question': 'What is the total amount of underreported federal tax income from 2011-2013?'}\n",
      "Error Type: KeyError, Message: 'question'\n",
      "Chain failed for example 7e5c821c-4a5c-4382-a5c6-8ba381ea49a0 with inputs {'Question': 'What were the deposits from bank failures for 2001-2020 and 2021-2023?'}\n",
      "Error Type: KeyError, Message: 'question'\n",
      "Chain failed for example 5f0e62da-7f5f-4151-bb5f-491de60be2de with inputs {'Question': 'What factors contributed to the federal income tax gap in 2011-2013, both in percentage and dollar terms?'}\n",
      "Error Type: KeyError, Message: 'question'\n",
      "Chain failed for example 3b721362-fc29-4d14-9fa3-5aaffddf2e6d with inputs {'Question': 'Can you calculate the year-over-year percentage change in net sales for the AWS segment from 2022 to 2023 for the three months ended September 30?'}\n",
      "Error Type: KeyError, Message: 'question'\n"
     ]
    },
    {
     "name": "stdout",
     "output_type": "stream",
     "text": [
      "\r",
      "[---------->                                       ] 6/28\r",
      "[----------->                                      ] 7/28\r",
      "[------------->                                    ] 8/28\r",
      "[--------------->                                  ] 9/28\r",
      "[----------------->                                ] 10/28"
     ]
    },
    {
     "name": "stderr",
     "output_type": "stream",
     "text": [
      "Chain failed for example c541c59a-cc42-4a06-8085-d44102ce2398 with inputs {'Question': 'For the three months that ended September 30, 2023, what percentage of total net sales did AWS contribute?'}\n",
      "Error Type: KeyError, Message: 'question'\n",
      "Chain failed for example 46f2dd15-c2ab-4d0a-bf5d-4c172d3a3ae0 with inputs {'Question': 'Can you calculate the year-over-year percentage change in AWS operating income for the three months that ended September 30, 2023?'}\n",
      "Error Type: KeyError, Message: 'question'\n",
      "Chain failed for example 26f099ce-6672-4fa2-aaa4-3cd65f4a3627 with inputs {'Question': 'Can you calculate the year-over-year percentage change in Amazon net product sales from 2022 to 2023 for the nine months ended September 30?'}\n",
      "Error Type: KeyError, Message: 'question'\n",
      "Chain failed for example f412803c-ca62-47e4-bb72-7b657d13addc with inputs {'Question': \"What was the year-over-year percentage change in revenue growth for Microsoft's Intelligent Cloud segment from 2022 to 2023 for the three months that ended September 30?\"}\n",
      "Error Type: KeyError, Message: 'question'\n",
      "Chain failed for example bdc56941-33cd-4ae3-94cd-5b0e59af4561 with inputs {'Question': \"For the three months ended September 30, 2023, what percentage of total revenue does Intelligent Cloud represent when considering Microsoft's three main business units (Productivity and Business Processes, Intelligent Cloud, and More Personal Computing)?\"}\n",
      "Error Type: KeyError, Message: 'question'\n"
     ]
    },
    {
     "name": "stdout",
     "output_type": "stream",
     "text": [
      "\r",
      "[------------------->                              ] 11/28\r",
      "[-------------------->                             ] 12/28\r",
      "[---------------------->                           ] 13/28\r",
      "[------------------------>                         ] 14/28\r",
      "[-------------------------->                       ] 15/28"
     ]
    },
    {
     "name": "stderr",
     "output_type": "stream",
     "text": [
      "Chain failed for example d0916586-8647-4d98-bc7d-3f599ed785ea with inputs {'Question': 'Can you calculate the year-over-year percentage change in revenue for Google Cloud from 2022 to 2023 for the Quarter Ended September 30?'}\n",
      "Error Type: KeyError, Message: 'question'\n",
      "Chain failed for example 3518405e-b07b-4c2f-a473-fa0045c16f26 with inputs {'Question': 'For the three months ended September 30, 2022, how much revenue did Google advertising and Google Cloud account for?'}\n",
      "Error Type: KeyError, Message: 'question'\n",
      "Chain failed for example e0fb68ab-1374-49fd-87bd-5e700b2b3439 with inputs {'Question': 'For the three months ended September 30, 2023, what percentage of total Alphabet revenues does Google Cloud comprise?'}\n",
      "Error Type: KeyError, Message: 'question'\n",
      "Chain failed for example 1c579a74-21b6-49f1-9a17-2dc9c5c4de80 with inputs {'Question': 'What were the revenues for AWS, Google Cloud, and Microsoft Intelligent Cloud for the three months that ended September 30, 2023?'}\n",
      "Error Type: KeyError, Message: 'question'\n",
      "Chain failed for example 69d28718-2fd1-4bb8-845d-2de2af664e27 with inputs {'Question': 'What percentage of total revenues do AWS, Google Cloud, and Microsoft Intelligent Cloud contribute for the three months ended September 30, 2023?'}\n",
      "Error Type: KeyError, Message: 'question'\n"
     ]
    },
    {
     "name": "stdout",
     "output_type": "stream",
     "text": [
      "\r",
      "[---------------------------->                     ] 16/28\r",
      "[----------------------------->                    ] 17/28\r",
      "[------------------------------->                  ] 18/28\r",
      "[--------------------------------->                ] 19/28\r",
      "[----------------------------------->              ] 20/28"
     ]
    },
    {
     "name": "stderr",
     "output_type": "stream",
     "text": [
      "Chain failed for example 652d39b8-06c6-47a1-8368-9768a12805b3 with inputs {'Question': \"What is Amazon's Diluted earnings per share for the Nine Months that Ended September 30, 2023?\"}\n",
      "Error Type: KeyError, Message: 'question'\n",
      "Chain failed for example e21e7e71-e68c-4bbb-a30a-b35f7a4978ec with inputs {'Question': \"What is Alphabet's Research and development expense for the Quarter Ended September 30, 2022?\"}\n",
      "Error Type: KeyError, Message: 'question'\n",
      "Chain failed for example 70045d2c-bfd8-4292-ab5f-3c5c396e3632 with inputs {'Question': 'What is the Microsoft Research and development expense for the Three Months Ended September 30, 2023?'}\n",
      "Error Type: KeyError, Message: 'question'\n"
     ]
    },
    {
     "name": "stdout",
     "output_type": "stream",
     "text": [
      "\r",
      "[------------------------------------->            ] 21/28\r",
      "[-------------------------------------->           ] 22/28\r",
      "[---------------------------------------->         ] 23/28"
     ]
    },
    {
     "name": "stderr",
     "output_type": "stream",
     "text": [
      "Chain failed for example 771e5284-f845-4e48-9cd8-c46bff13964c with inputs {'Question': 'How many viewers did Amazon Prime attract to the Thursday Night Football season opener?'}\n",
      "Error Type: KeyError, Message: 'question'\n",
      "Chain failed for example 83d89a67-3f81-4a4b-be67-ba5e56c070be with inputs {'Question': \"What is Datadog's Non-GAAP gross margin for the Nine Months Ended September 30, 2023?\"}\n",
      "Error Type: KeyError, Message: 'question'\n"
     ]
    },
    {
     "name": "stdout",
     "output_type": "stream",
     "text": [
      "\r",
      "[------------------------------------------>       ] 24/28\r",
      "[-------------------------------------------->     ] 25/28"
     ]
    },
    {
     "name": "stderr",
     "output_type": "stream",
     "text": [
      "Chain failed for example 4e8d1c00-ebf7-4ce4-b17a-88eb152ca20e with inputs {'Question': \"Based on Datadog's report 10 Insights on Real-World Container Use, what percentage of container organizations now run serverless containers and how does this compare to two years ago?\"}\n",
      "Error Type: KeyError, Message: 'question'\n",
      "Chain failed for example 0f1ea0a0-eab1-4c50-90c6-b25ee35e9767 with inputs {'Question': 'How long has the IRS has been estimating the size and composition of the tax gap?'}\n",
      "Error Type: KeyError, Message: 'question'\n",
      "Chain failed for example bed70228-f017-4f73-98de-3327e32eb651 with inputs {'Question': 'What are the two main resolution methods that the FDIC normally uses for failing banks?'}\n",
      "Error Type: KeyError, Message: 'question'\n"
     ]
    },
    {
     "name": "stdout",
     "output_type": "stream",
     "text": [
      "[------------------------------------------------->] 28/28View the evaluation results for project 'aa93-baseline-50-tok' at:\n",
      "https://smith.langchain.com/o/8088c1e2-0bd7-567f-a9a3-e89380e5cb42/datasets/0aba67b4-6e39-4f9d-b586-57a963cb724d/compare?selectedSessions=5be23d62-31b2-4af9-86a8-71ae265e4a36\n",
      "\n",
      "View all tests for Dataset Semi-structured Reports at:\n",
      "https://smith.langchain.com/o/8088c1e2-0bd7-567f-a9a3-e89380e5cb42/datasets/0aba67b4-6e39-4f9d-b586-57a963cb724d\n",
      "[>                                                 ] 0/28"
     ]
    },
    {
     "name": "stderr",
     "output_type": "stream",
     "text": [
      "Chain failed for example 45c1960f-674f-4fa8-8f2e-f04170dff3c8 with inputs {'Question': 'How much capitalized software development costs did Datadog report for the three months that ended September 30, 2023?'}\n",
      "Error Type: KeyError, Message: 'question'\n",
      "Chain failed for example 813ea2d1-4316-4bfb-b1b2-43b96d545cdf with inputs {'Question': \"What was Datadog's net income for the three months that ended September 30 in 2023 and 2022?\"}\n",
      "Error Type: KeyError, Message: 'question'\n",
      "Chain failed for example dbde8588-8b03-41e2-aa09-31ab0320ea88 with inputs {'Question': 'What was Datadog’s current and non-current deferred revenue as of September 30, 2023?'}\n",
      "Error Type: KeyError, Message: 'question'\n",
      "Chain failed for example 80216a8b-cae9-43e3-9be6-57a6bfbaaa25 with inputs {'Question': 'How much did Datadog spend on research and development for the three months ended September 30,2023?'}\n",
      "Error Type: KeyError, Message: 'question'\n",
      "Chain failed for example 351d2a74-07f2-43b9-8077-a78106e21ae0 with inputs {'Question': 'Can you calculate the year-over-year percentage change in Datadog’s research and development spending for the three months ended September 30,2023?'}\n",
      "Error Type: KeyError, Message: 'question'\n"
     ]
    },
    {
     "name": "stdout",
     "output_type": "stream",
     "text": [
      "\r",
      "[->                                                ] 1/28\r",
      "[--->                                              ] 2/28\r",
      "[---->                                             ] 3/28\r",
      "[------>                                           ] 4/28\r",
      "[-------->                                         ] 5/28"
     ]
    },
    {
     "name": "stderr",
     "output_type": "stream",
     "text": [
      "Chain failed for example 7e5c821c-4a5c-4382-a5c6-8ba381ea49a0 with inputs {'Question': 'What were the deposits from bank failures for 2001-2020 and 2021-2023?'}\n",
      "Error Type: KeyError, Message: 'question'\n",
      "Chain failed for example f274198c-baa5-4eaa-b8d8-427f486024f8 with inputs {'Question': 'What is the total amount of underreported federal tax income from 2011-2013?'}\n",
      "Error Type: KeyError, Message: 'question'\n",
      "Chain failed for example bfc0311a-6d35-4b1c-bae0-d0e46707f849 with inputs {'Question': 'How many bank failures occurred between 2021 and 2023?'}\n",
      "Error Type: KeyError, Message: 'question'\n",
      "Chain failed for example 5f0e62da-7f5f-4151-bb5f-491de60be2de with inputs {'Question': 'What factors contributed to the federal income tax gap in 2011-2013, both in percentage and dollar terms?'}\n",
      "Error Type: KeyError, Message: 'question'\n",
      "Chain failed for example 3b721362-fc29-4d14-9fa3-5aaffddf2e6d with inputs {'Question': 'Can you calculate the year-over-year percentage change in net sales for the AWS segment from 2022 to 2023 for the three months ended September 30?'}\n",
      "Error Type: KeyError, Message: 'question'\n"
     ]
    },
    {
     "name": "stdout",
     "output_type": "stream",
     "text": [
      "\r",
      "[---------->                                       ] 6/28\r",
      "[----------->                                      ] 7/28\r",
      "[------------->                                    ] 8/28\r",
      "[--------------->                                  ] 9/28\r",
      "[----------------->                                ] 10/28"
     ]
    },
    {
     "name": "stderr",
     "output_type": "stream",
     "text": [
      "Chain failed for example 26f099ce-6672-4fa2-aaa4-3cd65f4a3627 with inputs {'Question': 'Can you calculate the year-over-year percentage change in Amazon net product sales from 2022 to 2023 for the nine months ended September 30?'}\n",
      "Error Type: KeyError, Message: 'question'\n",
      "Chain failed for example c541c59a-cc42-4a06-8085-d44102ce2398 with inputs {'Question': 'For the three months that ended September 30, 2023, what percentage of total net sales did AWS contribute?'}\n",
      "Error Type: KeyError, Message: 'question'\n",
      "Chain failed for example f412803c-ca62-47e4-bb72-7b657d13addc with inputs {'Question': \"What was the year-over-year percentage change in revenue growth for Microsoft's Intelligent Cloud segment from 2022 to 2023 for the three months that ended September 30?\"}\n",
      "Error Type: KeyError, Message: 'question'\n",
      "Chain failed for example 46f2dd15-c2ab-4d0a-bf5d-4c172d3a3ae0 with inputs {'Question': 'Can you calculate the year-over-year percentage change in AWS operating income for the three months that ended September 30, 2023?'}\n",
      "Error Type: KeyError, Message: 'question'\n",
      "Chain failed for example bdc56941-33cd-4ae3-94cd-5b0e59af4561 with inputs {'Question': \"For the three months ended September 30, 2023, what percentage of total revenue does Intelligent Cloud represent when considering Microsoft's three main business units (Productivity and Business Processes, Intelligent Cloud, and More Personal Computing)?\"}\n",
      "Error Type: KeyError, Message: 'question'\n"
     ]
    },
    {
     "name": "stdout",
     "output_type": "stream",
     "text": [
      "\r",
      "[------------------->                              ] 11/28\r",
      "[-------------------->                             ] 12/28\r",
      "[---------------------->                           ] 13/28\r",
      "[------------------------>                         ] 14/28\r",
      "[-------------------------->                       ] 15/28"
     ]
    },
    {
     "name": "stderr",
     "output_type": "stream",
     "text": [
      "Chain failed for example d0916586-8647-4d98-bc7d-3f599ed785ea with inputs {'Question': 'Can you calculate the year-over-year percentage change in revenue for Google Cloud from 2022 to 2023 for the Quarter Ended September 30?'}\n",
      "Error Type: KeyError, Message: 'question'\n",
      "Chain failed for example e0fb68ab-1374-49fd-87bd-5e700b2b3439 with inputs {'Question': 'For the three months ended September 30, 2023, what percentage of total Alphabet revenues does Google Cloud comprise?'}\n",
      "Error Type: KeyError, Message: 'question'\n",
      "Chain failed for example 69d28718-2fd1-4bb8-845d-2de2af664e27 with inputs {'Question': 'What percentage of total revenues do AWS, Google Cloud, and Microsoft Intelligent Cloud contribute for the three months ended September 30, 2023?'}\n",
      "Error Type: KeyError, Message: 'question'\n",
      "Chain failed for example 3518405e-b07b-4c2f-a473-fa0045c16f26 with inputs {'Question': 'For the three months ended September 30, 2022, how much revenue did Google advertising and Google Cloud account for?'}\n",
      "Error Type: KeyError, Message: 'question'\n",
      "Chain failed for example 1c579a74-21b6-49f1-9a17-2dc9c5c4de80 with inputs {'Question': 'What were the revenues for AWS, Google Cloud, and Microsoft Intelligent Cloud for the three months that ended September 30, 2023?'}\n",
      "Error Type: KeyError, Message: 'question'\n"
     ]
    },
    {
     "name": "stdout",
     "output_type": "stream",
     "text": [
      "\r",
      "[---------------------------->                     ] 16/28\r",
      "[----------------------------->                    ] 17/28\r",
      "[------------------------------->                  ] 18/28\r",
      "[--------------------------------->                ] 19/28\r",
      "[----------------------------------->              ] 20/28"
     ]
    },
    {
     "name": "stderr",
     "output_type": "stream",
     "text": [
      "Chain failed for example 652d39b8-06c6-47a1-8368-9768a12805b3 with inputs {'Question': \"What is Amazon's Diluted earnings per share for the Nine Months that Ended September 30, 2023?\"}\n",
      "Error Type: KeyError, Message: 'question'\n",
      "Chain failed for example 70045d2c-bfd8-4292-ab5f-3c5c396e3632 with inputs {'Question': 'What is the Microsoft Research and development expense for the Three Months Ended September 30, 2023?'}\n",
      "Error Type: KeyError, Message: 'question'\n",
      "Chain failed for example e21e7e71-e68c-4bbb-a30a-b35f7a4978ec with inputs {'Question': \"What is Alphabet's Research and development expense for the Quarter Ended September 30, 2022?\"}\n",
      "Error Type: KeyError, Message: 'question'\n",
      "Chain failed for example 83d89a67-3f81-4a4b-be67-ba5e56c070be with inputs {'Question': \"What is Datadog's Non-GAAP gross margin for the Nine Months Ended September 30, 2023?\"}\n",
      "Error Type: KeyError, Message: 'question'\n",
      "Chain failed for example 771e5284-f845-4e48-9cd8-c46bff13964c with inputs {'Question': 'How many viewers did Amazon Prime attract to the Thursday Night Football season opener?'}\n",
      "Error Type: KeyError, Message: 'question'\n"
     ]
    },
    {
     "name": "stdout",
     "output_type": "stream",
     "text": [
      "\r",
      "[------------------------------------->            ] 21/28\r",
      "[-------------------------------------->           ] 22/28\r",
      "[---------------------------------------->         ] 23/28\r",
      "[------------------------------------------>       ] 24/28\r",
      "[-------------------------------------------->     ] 25/28"
     ]
    },
    {
     "name": "stderr",
     "output_type": "stream",
     "text": [
      "Chain failed for example 4e8d1c00-ebf7-4ce4-b17a-88eb152ca20e with inputs {'Question': \"Based on Datadog's report 10 Insights on Real-World Container Use, what percentage of container organizations now run serverless containers and how does this compare to two years ago?\"}\n",
      "Error Type: KeyError, Message: 'question'\n",
      "Chain failed for example 0f1ea0a0-eab1-4c50-90c6-b25ee35e9767 with inputs {'Question': 'How long has the IRS has been estimating the size and composition of the tax gap?'}\n",
      "Error Type: KeyError, Message: 'question'\n",
      "Chain failed for example bed70228-f017-4f73-98de-3327e32eb651 with inputs {'Question': 'What are the two main resolution methods that the FDIC normally uses for failing banks?'}\n",
      "Error Type: KeyError, Message: 'question'\n"
     ]
    },
    {
     "name": "stdout",
     "output_type": "stream",
     "text": [
      "[------------------------------------------------->] 28/28View the evaluation results for project 'aa93-baseline-100-tok' at:\n",
      "https://smith.langchain.com/o/8088c1e2-0bd7-567f-a9a3-e89380e5cb42/datasets/0aba67b4-6e39-4f9d-b586-57a963cb724d/compare?selectedSessions=4d940f36-17b2-4bc9-9e88-4d6b780aaf46\n",
      "\n",
      "View all tests for Dataset Semi-structured Reports at:\n",
      "https://smith.langchain.com/o/8088c1e2-0bd7-567f-a9a3-e89380e5cb42/datasets/0aba67b4-6e39-4f9d-b586-57a963cb724d\n",
      "[>                                                 ] 0/28"
     ]
    },
    {
     "name": "stderr",
     "output_type": "stream",
     "text": [
      "Chain failed for example dbde8588-8b03-41e2-aa09-31ab0320ea88 with inputs {'Question': 'What was Datadog’s current and non-current deferred revenue as of September 30, 2023?'}\n",
      "Error Type: KeyError, Message: 'question'\n",
      "Chain failed for example 80216a8b-cae9-43e3-9be6-57a6bfbaaa25 with inputs {'Question': 'How much did Datadog spend on research and development for the three months ended September 30,2023?'}\n",
      "Error Type: KeyError, Message: 'question'\n",
      "Chain failed for example 45c1960f-674f-4fa8-8f2e-f04170dff3c8 with inputs {'Question': 'How much capitalized software development costs did Datadog report for the three months that ended September 30, 2023?'}\n",
      "Error Type: KeyError, Message: 'question'\n",
      "Chain failed for example 813ea2d1-4316-4bfb-b1b2-43b96d545cdf with inputs {'Question': \"What was Datadog's net income for the three months that ended September 30 in 2023 and 2022?\"}\n",
      "Error Type: KeyError, Message: 'question'\n",
      "Chain failed for example 351d2a74-07f2-43b9-8077-a78106e21ae0 with inputs {'Question': 'Can you calculate the year-over-year percentage change in Datadog’s research and development spending for the three months ended September 30,2023?'}\n",
      "Error Type: KeyError, Message: 'question'\n"
     ]
    },
    {
     "name": "stdout",
     "output_type": "stream",
     "text": [
      "\r",
      "[->                                                ] 1/28\r",
      "[--->                                              ] 2/28\r",
      "[---->                                             ] 3/28\r",
      "[------>                                           ] 4/28\r",
      "[-------->                                         ] 5/28"
     ]
    },
    {
     "name": "stderr",
     "output_type": "stream",
     "text": [
      "Chain failed for example bfc0311a-6d35-4b1c-bae0-d0e46707f849 with inputs {'Question': 'How many bank failures occurred between 2021 and 2023?'}\n",
      "Error Type: KeyError, Message: 'question'\n",
      "Chain failed for example 5f0e62da-7f5f-4151-bb5f-491de60be2de with inputs {'Question': 'What factors contributed to the federal income tax gap in 2011-2013, both in percentage and dollar terms?'}\n",
      "Error Type: KeyError, Message: 'question'\n",
      "Chain failed for example f274198c-baa5-4eaa-b8d8-427f486024f8 with inputs {'Question': 'What is the total amount of underreported federal tax income from 2011-2013?'}\n",
      "Error Type: KeyError, Message: 'question'\n",
      "Chain failed for example 7e5c821c-4a5c-4382-a5c6-8ba381ea49a0 with inputs {'Question': 'What were the deposits from bank failures for 2001-2020 and 2021-2023?'}\n",
      "Error Type: KeyError, Message: 'question'\n",
      "Chain failed for example 3b721362-fc29-4d14-9fa3-5aaffddf2e6d with inputs {'Question': 'Can you calculate the year-over-year percentage change in net sales for the AWS segment from 2022 to 2023 for the three months ended September 30?'}\n",
      "Error Type: KeyError, Message: 'question'\n"
     ]
    },
    {
     "name": "stdout",
     "output_type": "stream",
     "text": [
      "\r",
      "[---------->                                       ] 6/28\r",
      "[----------->                                      ] 7/28\r",
      "[------------->                                    ] 8/28\r",
      "[--------------->                                  ] 9/28\r",
      "[----------------->                                ] 10/28"
     ]
    },
    {
     "name": "stderr",
     "output_type": "stream",
     "text": [
      "Chain failed for example c541c59a-cc42-4a06-8085-d44102ce2398 with inputs {'Question': 'For the three months that ended September 30, 2023, what percentage of total net sales did AWS contribute?'}\n",
      "Error Type: KeyError, Message: 'question'\n",
      "Chain failed for example 46f2dd15-c2ab-4d0a-bf5d-4c172d3a3ae0 with inputs {'Question': 'Can you calculate the year-over-year percentage change in AWS operating income for the three months that ended September 30, 2023?'}\n",
      "Error Type: KeyError, Message: 'question'\n",
      "Chain failed for example 26f099ce-6672-4fa2-aaa4-3cd65f4a3627 with inputs {'Question': 'Can you calculate the year-over-year percentage change in Amazon net product sales from 2022 to 2023 for the nine months ended September 30?'}\n",
      "Error Type: KeyError, Message: 'question'\n",
      "Chain failed for example f412803c-ca62-47e4-bb72-7b657d13addc with inputs {'Question': \"What was the year-over-year percentage change in revenue growth for Microsoft's Intelligent Cloud segment from 2022 to 2023 for the three months that ended September 30?\"}\n",
      "Error Type: KeyError, Message: 'question'\n",
      "Chain failed for example bdc56941-33cd-4ae3-94cd-5b0e59af4561 with inputs {'Question': \"For the three months ended September 30, 2023, what percentage of total revenue does Intelligent Cloud represent when considering Microsoft's three main business units (Productivity and Business Processes, Intelligent Cloud, and More Personal Computing)?\"}\n",
      "Error Type: KeyError, Message: 'question'\n"
     ]
    },
    {
     "name": "stdout",
     "output_type": "stream",
     "text": [
      "\r",
      "[------------------->                              ] 11/28\r",
      "[-------------------->                             ] 12/28\r",
      "[---------------------->                           ] 13/28\r",
      "[------------------------>                         ] 14/28\r",
      "[-------------------------->                       ] 15/28"
     ]
    },
    {
     "name": "stderr",
     "output_type": "stream",
     "text": [
      "Chain failed for example d0916586-8647-4d98-bc7d-3f599ed785ea with inputs {'Question': 'Can you calculate the year-over-year percentage change in revenue for Google Cloud from 2022 to 2023 for the Quarter Ended September 30?'}\n",
      "Error Type: KeyError, Message: 'question'\n",
      "Chain failed for example e0fb68ab-1374-49fd-87bd-5e700b2b3439 with inputs {'Question': 'For the three months ended September 30, 2023, what percentage of total Alphabet revenues does Google Cloud comprise?'}\n",
      "Error Type: KeyError, Message: 'question'\n",
      "Chain failed for example 3518405e-b07b-4c2f-a473-fa0045c16f26 with inputs {'Question': 'For the three months ended September 30, 2022, how much revenue did Google advertising and Google Cloud account for?'}\n",
      "Error Type: KeyError, Message: 'question'\n",
      "Chain failed for example 1c579a74-21b6-49f1-9a17-2dc9c5c4de80 with inputs {'Question': 'What were the revenues for AWS, Google Cloud, and Microsoft Intelligent Cloud for the three months that ended September 30, 2023?'}\n",
      "Error Type: KeyError, Message: 'question'\n"
     ]
    },
    {
     "name": "stdout",
     "output_type": "stream",
     "text": [
      "\r",
      "[---------------------------->                     ] 16/28\r",
      "[----------------------------->                    ] 17/28\r",
      "[------------------------------->                  ] 18/28\r",
      "[--------------------------------->                ] 19/28"
     ]
    },
    {
     "name": "stderr",
     "output_type": "stream",
     "text": [
      "Chain failed for example 69d28718-2fd1-4bb8-845d-2de2af664e27 with inputs {'Question': 'What percentage of total revenues do AWS, Google Cloud, and Microsoft Intelligent Cloud contribute for the three months ended September 30, 2023?'}\n",
      "Error Type: KeyError, Message: 'question'\n"
     ]
    },
    {
     "name": "stdout",
     "output_type": "stream",
     "text": [
      "\r",
      "[----------------------------------->              ] 20/28"
     ]
    },
    {
     "name": "stderr",
     "output_type": "stream",
     "text": [
      "Chain failed for example 652d39b8-06c6-47a1-8368-9768a12805b3 with inputs {'Question': \"What is Amazon's Diluted earnings per share for the Nine Months that Ended September 30, 2023?\"}\n",
      "Error Type: KeyError, Message: 'question'\n",
      "Chain failed for example e21e7e71-e68c-4bbb-a30a-b35f7a4978ec with inputs {'Question': \"What is Alphabet's Research and development expense for the Quarter Ended September 30, 2022?\"}\n",
      "Error Type: KeyError, Message: 'question'\n",
      "Chain failed for example 70045d2c-bfd8-4292-ab5f-3c5c396e3632 with inputs {'Question': 'What is the Microsoft Research and development expense for the Three Months Ended September 30, 2023?'}\n",
      "Error Type: KeyError, Message: 'question'\n",
      "Chain failed for example 83d89a67-3f81-4a4b-be67-ba5e56c070be with inputs {'Question': \"What is Datadog's Non-GAAP gross margin for the Nine Months Ended September 30, 2023?\"}\n",
      "Error Type: KeyError, Message: 'question'\n"
     ]
    },
    {
     "name": "stdout",
     "output_type": "stream",
     "text": [
      "\r",
      "[------------------------------------->            ] 21/28\r",
      "[-------------------------------------->           ] 22/28\r",
      "[---------------------------------------->         ] 23/28\r",
      "[------------------------------------------>       ] 24/28"
     ]
    },
    {
     "name": "stderr",
     "output_type": "stream",
     "text": [
      "Chain failed for example 771e5284-f845-4e48-9cd8-c46bff13964c with inputs {'Question': 'How many viewers did Amazon Prime attract to the Thursday Night Football season opener?'}\n",
      "Error Type: KeyError, Message: 'question'\n"
     ]
    },
    {
     "name": "stdout",
     "output_type": "stream",
     "text": [
      "\r",
      "[-------------------------------------------->     ] 25/28"
     ]
    },
    {
     "name": "stderr",
     "output_type": "stream",
     "text": [
      "Chain failed for example 4e8d1c00-ebf7-4ce4-b17a-88eb152ca20e with inputs {'Question': \"Based on Datadog's report 10 Insights on Real-World Container Use, what percentage of container organizations now run serverless containers and how does this compare to two years ago?\"}\n",
      "Error Type: KeyError, Message: 'question'\n",
      "Chain failed for example 0f1ea0a0-eab1-4c50-90c6-b25ee35e9767 with inputs {'Question': 'How long has the IRS has been estimating the size and composition of the tax gap?'}\n",
      "Error Type: KeyError, Message: 'question'\n",
      "Chain failed for example bed70228-f017-4f73-98de-3327e32eb651 with inputs {'Question': 'What are the two main resolution methods that the FDIC normally uses for failing banks?'}\n",
      "Error Type: KeyError, Message: 'question'\n"
     ]
    },
    {
     "name": "stdout",
     "output_type": "stream",
     "text": [
      "[------------------------------------------------->] 28/28View the evaluation results for project 'aa93-baseline-250-tok' at:\n",
      "https://smith.langchain.com/o/8088c1e2-0bd7-567f-a9a3-e89380e5cb42/datasets/0aba67b4-6e39-4f9d-b586-57a963cb724d/compare?selectedSessions=a6dce677-9118-4ba2-bb60-9120ff852c2c\n",
      "\n",
      "View all tests for Dataset Semi-structured Reports at:\n",
      "https://smith.langchain.com/o/8088c1e2-0bd7-567f-a9a3-e89380e5cb42/datasets/0aba67b4-6e39-4f9d-b586-57a963cb724d\n",
      "[>                                                 ] 0/28"
     ]
    },
    {
     "name": "stderr",
     "output_type": "stream",
     "text": [
      "Chain failed for example 80216a8b-cae9-43e3-9be6-57a6bfbaaa25 with inputs {'Question': 'How much did Datadog spend on research and development for the three months ended September 30,2023?'}\n",
      "Error Type: KeyError, Message: 'question'\n",
      "Chain failed for example 351d2a74-07f2-43b9-8077-a78106e21ae0 with inputs {'Question': 'Can you calculate the year-over-year percentage change in Datadog’s research and development spending for the three months ended September 30,2023?'}\n",
      "Error Type: KeyError, Message: 'question'\n",
      "Chain failed for example 45c1960f-674f-4fa8-8f2e-f04170dff3c8 with inputs {'Question': 'How much capitalized software development costs did Datadog report for the three months that ended September 30, 2023?'}\n",
      "Error Type: KeyError, Message: 'question'\n",
      "Chain failed for example 813ea2d1-4316-4bfb-b1b2-43b96d545cdf with inputs {'Question': \"What was Datadog's net income for the three months that ended September 30 in 2023 and 2022?\"}\n",
      "Error Type: KeyError, Message: 'question'\n",
      "Chain failed for example dbde8588-8b03-41e2-aa09-31ab0320ea88 with inputs {'Question': 'What was Datadog’s current and non-current deferred revenue as of September 30, 2023?'}\n",
      "Error Type: KeyError, Message: 'question'\n"
     ]
    },
    {
     "name": "stdout",
     "output_type": "stream",
     "text": [
      "\r",
      "[->                                                ] 1/28\r",
      "[--->                                              ] 2/28\r",
      "[---->                                             ] 3/28\r",
      "[------>                                           ] 4/28\r",
      "[-------->                                         ] 5/28"
     ]
    },
    {
     "name": "stderr",
     "output_type": "stream",
     "text": [
      "Chain failed for example 3b721362-fc29-4d14-9fa3-5aaffddf2e6d with inputs {'Question': 'Can you calculate the year-over-year percentage change in net sales for the AWS segment from 2022 to 2023 for the three months ended September 30?'}\n",
      "Error Type: KeyError, Message: 'question'\n",
      "Chain failed for example f274198c-baa5-4eaa-b8d8-427f486024f8 with inputs {'Question': 'What is the total amount of underreported federal tax income from 2011-2013?'}\n",
      "Error Type: KeyError, Message: 'question'\n",
      "Chain failed for example 5f0e62da-7f5f-4151-bb5f-491de60be2de with inputs {'Question': 'What factors contributed to the federal income tax gap in 2011-2013, both in percentage and dollar terms?'}\n",
      "Error Type: KeyError, Message: 'question'\n",
      "Chain failed for example 7e5c821c-4a5c-4382-a5c6-8ba381ea49a0 with inputs {'Question': 'What were the deposits from bank failures for 2001-2020 and 2021-2023?'}\n",
      "Error Type: KeyError, Message: 'question'\n",
      "Chain failed for example bfc0311a-6d35-4b1c-bae0-d0e46707f849 with inputs {'Question': 'How many bank failures occurred between 2021 and 2023?'}\n",
      "Error Type: KeyError, Message: 'question'\n"
     ]
    },
    {
     "name": "stdout",
     "output_type": "stream",
     "text": [
      "\r",
      "[---------->                                       ] 6/28\r",
      "[----------->                                      ] 7/28\r",
      "[------------->                                    ] 8/28\r",
      "[--------------->                                  ] 9/28\r",
      "[----------------->                                ] 10/28"
     ]
    },
    {
     "name": "stderr",
     "output_type": "stream",
     "text": [
      "Chain failed for example c541c59a-cc42-4a06-8085-d44102ce2398 with inputs {'Question': 'For the three months that ended September 30, 2023, what percentage of total net sales did AWS contribute?'}\n",
      "Error Type: KeyError, Message: 'question'\n",
      "Chain failed for example 46f2dd15-c2ab-4d0a-bf5d-4c172d3a3ae0 with inputs {'Question': 'Can you calculate the year-over-year percentage change in AWS operating income for the three months that ended September 30, 2023?'}\n",
      "Error Type: KeyError, Message: 'question'\n",
      "Chain failed for example 26f099ce-6672-4fa2-aaa4-3cd65f4a3627 with inputs {'Question': 'Can you calculate the year-over-year percentage change in Amazon net product sales from 2022 to 2023 for the nine months ended September 30?'}\n",
      "Error Type: KeyError, Message: 'question'\n",
      "Chain failed for example bdc56941-33cd-4ae3-94cd-5b0e59af4561 with inputs {'Question': \"For the three months ended September 30, 2023, what percentage of total revenue does Intelligent Cloud represent when considering Microsoft's three main business units (Productivity and Business Processes, Intelligent Cloud, and More Personal Computing)?\"}\n",
      "Error Type: KeyError, Message: 'question'\n",
      "Chain failed for example f412803c-ca62-47e4-bb72-7b657d13addc with inputs {'Question': \"What was the year-over-year percentage change in revenue growth for Microsoft's Intelligent Cloud segment from 2022 to 2023 for the three months that ended September 30?\"}\n",
      "Error Type: KeyError, Message: 'question'\n"
     ]
    },
    {
     "name": "stdout",
     "output_type": "stream",
     "text": [
      "\r",
      "[------------------->                              ] 11/28\r",
      "[-------------------->                             ] 12/28\r",
      "[---------------------->                           ] 13/28\r",
      "[------------------------>                         ] 14/28\r",
      "[-------------------------->                       ] 15/28"
     ]
    },
    {
     "name": "stderr",
     "output_type": "stream",
     "text": [
      "Chain failed for example e0fb68ab-1374-49fd-87bd-5e700b2b3439 with inputs {'Question': 'For the three months ended September 30, 2023, what percentage of total Alphabet revenues does Google Cloud comprise?'}\n",
      "Error Type: KeyError, Message: 'question'\n",
      "Chain failed for example 69d28718-2fd1-4bb8-845d-2de2af664e27 with inputs {'Question': 'What percentage of total revenues do AWS, Google Cloud, and Microsoft Intelligent Cloud contribute for the three months ended September 30, 2023?'}\n",
      "Error Type: KeyError, Message: 'question'\n",
      "Chain failed for example 3518405e-b07b-4c2f-a473-fa0045c16f26 with inputs {'Question': 'For the three months ended September 30, 2022, how much revenue did Google advertising and Google Cloud account for?'}\n",
      "Error Type: KeyError, Message: 'question'\n",
      "Chain failed for example 1c579a74-21b6-49f1-9a17-2dc9c5c4de80 with inputs {'Question': 'What were the revenues for AWS, Google Cloud, and Microsoft Intelligent Cloud for the three months that ended September 30, 2023?'}\n",
      "Error Type: KeyError, Message: 'question'\n",
      "Chain failed for example d0916586-8647-4d98-bc7d-3f599ed785ea with inputs {'Question': 'Can you calculate the year-over-year percentage change in revenue for Google Cloud from 2022 to 2023 for the Quarter Ended September 30?'}\n",
      "Error Type: KeyError, Message: 'question'\n"
     ]
    },
    {
     "name": "stdout",
     "output_type": "stream",
     "text": [
      "\r",
      "[---------------------------->                     ] 16/28\r",
      "[----------------------------->                    ] 17/28\r",
      "[------------------------------->                  ] 18/28\r",
      "[--------------------------------->                ] 19/28\r",
      "[----------------------------------->              ] 20/28"
     ]
    },
    {
     "name": "stderr",
     "output_type": "stream",
     "text": [
      "Chain failed for example 652d39b8-06c6-47a1-8368-9768a12805b3 with inputs {'Question': \"What is Amazon's Diluted earnings per share for the Nine Months that Ended September 30, 2023?\"}\n",
      "Error Type: KeyError, Message: 'question'\n",
      "Chain failed for example 771e5284-f845-4e48-9cd8-c46bff13964c with inputs {'Question': 'How many viewers did Amazon Prime attract to the Thursday Night Football season opener?'}\n",
      "Error Type: KeyError, Message: 'question'\n",
      "Chain failed for example 70045d2c-bfd8-4292-ab5f-3c5c396e3632 with inputs {'Question': 'What is the Microsoft Research and development expense for the Three Months Ended September 30, 2023?'}\n",
      "Error Type: KeyError, Message: 'question'\n",
      "Chain failed for example e21e7e71-e68c-4bbb-a30a-b35f7a4978ec with inputs {'Question': \"What is Alphabet's Research and development expense for the Quarter Ended September 30, 2022?\"}\n",
      "Error Type: KeyError, Message: 'question'\n",
      "Chain failed for example 83d89a67-3f81-4a4b-be67-ba5e56c070be with inputs {'Question': \"What is Datadog's Non-GAAP gross margin for the Nine Months Ended September 30, 2023?\"}\n",
      "Error Type: KeyError, Message: 'question'\n"
     ]
    },
    {
     "name": "stdout",
     "output_type": "stream",
     "text": [
      "\r",
      "[------------------------------------->            ] 21/28\r",
      "[-------------------------------------->           ] 22/28\r",
      "[---------------------------------------->         ] 23/28\r",
      "[------------------------------------------>       ] 24/28\r",
      "[-------------------------------------------->     ] 25/28"
     ]
    },
    {
     "name": "stderr",
     "output_type": "stream",
     "text": [
      "Chain failed for example 4e8d1c00-ebf7-4ce4-b17a-88eb152ca20e with inputs {'Question': \"Based on Datadog's report 10 Insights on Real-World Container Use, what percentage of container organizations now run serverless containers and how does this compare to two years ago?\"}\n",
      "Error Type: KeyError, Message: 'question'\n",
      "Chain failed for example bed70228-f017-4f73-98de-3327e32eb651 with inputs {'Question': 'What are the two main resolution methods that the FDIC normally uses for failing banks?'}\n",
      "Error Type: KeyError, Message: 'question'\n",
      "Chain failed for example 0f1ea0a0-eab1-4c50-90c6-b25ee35e9767 with inputs {'Question': 'How long has the IRS has been estimating the size and composition of the tax gap?'}\n",
      "Error Type: KeyError, Message: 'question'\n"
     ]
    },
    {
     "name": "stdout",
     "output_type": "stream",
     "text": [
      "[------------------------------------------------->] 28/28View the evaluation results for project 'aa93-baseline-250-tok-mixtral' at:\n",
      "https://smith.langchain.com/o/8088c1e2-0bd7-567f-a9a3-e89380e5cb42/datasets/0aba67b4-6e39-4f9d-b586-57a963cb724d/compare?selectedSessions=2d0d5360-cb9a-4bc6-bc36-04c8153dfeb3\n",
      "\n",
      "View all tests for Dataset Semi-structured Reports at:\n",
      "https://smith.langchain.com/o/8088c1e2-0bd7-567f-a9a3-e89380e5cb42/datasets/0aba67b4-6e39-4f9d-b586-57a963cb724d\n",
      "[>                                                 ] 0/28"
     ]
    },
    {
     "name": "stderr",
     "output_type": "stream",
     "text": [
      "Chain failed for example 351d2a74-07f2-43b9-8077-a78106e21ae0 with inputs {'Question': 'Can you calculate the year-over-year percentage change in Datadog’s research and development spending for the three months ended September 30,2023?'}\n",
      "Error Type: KeyError, Message: 'question'\n",
      "Chain failed for example 80216a8b-cae9-43e3-9be6-57a6bfbaaa25 with inputs {'Question': 'How much did Datadog spend on research and development for the three months ended September 30,2023?'}\n",
      "Error Type: KeyError, Message: 'question'\n",
      "Chain failed for example 813ea2d1-4316-4bfb-b1b2-43b96d545cdf with inputs {'Question': \"What was Datadog's net income for the three months that ended September 30 in 2023 and 2022?\"}\n",
      "Error Type: KeyError, Message: 'question'\n",
      "Chain failed for example dbde8588-8b03-41e2-aa09-31ab0320ea88 with inputs {'Question': 'What was Datadog’s current and non-current deferred revenue as of September 30, 2023?'}\n",
      "Error Type: KeyError, Message: 'question'\n",
      "Chain failed for example 45c1960f-674f-4fa8-8f2e-f04170dff3c8 with inputs {'Question': 'How much capitalized software development costs did Datadog report for the three months that ended September 30, 2023?'}\n",
      "Error Type: KeyError, Message: 'question'\n"
     ]
    },
    {
     "name": "stdout",
     "output_type": "stream",
     "text": [
      "\r",
      "[->                                                ] 1/28\r",
      "[--->                                              ] 2/28\r",
      "[---->                                             ] 3/28\r",
      "[------>                                           ] 4/28\r",
      "[-------->                                         ] 5/28"
     ]
    },
    {
     "name": "stderr",
     "output_type": "stream",
     "text": [
      "Chain failed for example bfc0311a-6d35-4b1c-bae0-d0e46707f849 with inputs {'Question': 'How many bank failures occurred between 2021 and 2023?'}\n",
      "Error Type: KeyError, Message: 'question'\n",
      "Chain failed for example 7e5c821c-4a5c-4382-a5c6-8ba381ea49a0 with inputs {'Question': 'What were the deposits from bank failures for 2001-2020 and 2021-2023?'}\n",
      "Error Type: KeyError, Message: 'question'\n",
      "Chain failed for example 3b721362-fc29-4d14-9fa3-5aaffddf2e6d with inputs {'Question': 'Can you calculate the year-over-year percentage change in net sales for the AWS segment from 2022 to 2023 for the three months ended September 30?'}\n",
      "Error Type: KeyError, Message: 'question'\n",
      "Chain failed for example 5f0e62da-7f5f-4151-bb5f-491de60be2de with inputs {'Question': 'What factors contributed to the federal income tax gap in 2011-2013, both in percentage and dollar terms?'}\n",
      "Error Type: KeyError, Message: 'question'\n",
      "Chain failed for example f274198c-baa5-4eaa-b8d8-427f486024f8 with inputs {'Question': 'What is the total amount of underreported federal tax income from 2011-2013?'}\n",
      "Error Type: KeyError, Message: 'question'\n"
     ]
    },
    {
     "name": "stdout",
     "output_type": "stream",
     "text": [
      "\r",
      "[---------->                                       ] 6/28\r",
      "[----------->                                      ] 7/28\r",
      "[------------->                                    ] 8/28\r",
      "[--------------->                                  ] 9/28\r",
      "[----------------->                                ] 10/28"
     ]
    },
    {
     "name": "stderr",
     "output_type": "stream",
     "text": [
      "Chain failed for example c541c59a-cc42-4a06-8085-d44102ce2398 with inputs {'Question': 'For the three months that ended September 30, 2023, what percentage of total net sales did AWS contribute?'}\n",
      "Error Type: KeyError, Message: 'question'\n",
      "Chain failed for example 46f2dd15-c2ab-4d0a-bf5d-4c172d3a3ae0 with inputs {'Question': 'Can you calculate the year-over-year percentage change in AWS operating income for the three months that ended September 30, 2023?'}\n",
      "Error Type: KeyError, Message: 'question'\n",
      "Chain failed for example bdc56941-33cd-4ae3-94cd-5b0e59af4561 with inputs {'Question': \"For the three months ended September 30, 2023, what percentage of total revenue does Intelligent Cloud represent when considering Microsoft's three main business units (Productivity and Business Processes, Intelligent Cloud, and More Personal Computing)?\"}\n",
      "Error Type: KeyError, Message: 'question'\n",
      "Chain failed for example 26f099ce-6672-4fa2-aaa4-3cd65f4a3627 with inputs {'Question': 'Can you calculate the year-over-year percentage change in Amazon net product sales from 2022 to 2023 for the nine months ended September 30?'}\n",
      "Error Type: KeyError, Message: 'question'\n",
      "Chain failed for example f412803c-ca62-47e4-bb72-7b657d13addc with inputs {'Question': \"What was the year-over-year percentage change in revenue growth for Microsoft's Intelligent Cloud segment from 2022 to 2023 for the three months that ended September 30?\"}\n",
      "Error Type: KeyError, Message: 'question'\n"
     ]
    },
    {
     "name": "stdout",
     "output_type": "stream",
     "text": [
      "\r",
      "[------------------->                              ] 11/28\r",
      "[-------------------->                             ] 12/28\r",
      "[---------------------->                           ] 13/28\r",
      "[------------------------>                         ] 14/28\r",
      "[-------------------------->                       ] 15/28"
     ]
    },
    {
     "name": "stderr",
     "output_type": "stream",
     "text": [
      "Chain failed for example d0916586-8647-4d98-bc7d-3f599ed785ea with inputs {'Question': 'Can you calculate the year-over-year percentage change in revenue for Google Cloud from 2022 to 2023 for the Quarter Ended September 30?'}\n",
      "Error Type: KeyError, Message: 'question'\n",
      "Chain failed for example e0fb68ab-1374-49fd-87bd-5e700b2b3439 with inputs {'Question': 'For the three months ended September 30, 2023, what percentage of total Alphabet revenues does Google Cloud comprise?'}\n",
      "Error Type: KeyError, Message: 'question'\n",
      "Chain failed for example 1c579a74-21b6-49f1-9a17-2dc9c5c4de80 with inputs {'Question': 'What were the revenues for AWS, Google Cloud, and Microsoft Intelligent Cloud for the three months that ended September 30, 2023?'}\n",
      "Error Type: KeyError, Message: 'question'\n",
      "Chain failed for example 3518405e-b07b-4c2f-a473-fa0045c16f26 with inputs {'Question': 'For the three months ended September 30, 2022, how much revenue did Google advertising and Google Cloud account for?'}\n",
      "Error Type: KeyError, Message: 'question'\n",
      "Chain failed for example 69d28718-2fd1-4bb8-845d-2de2af664e27 with inputs {'Question': 'What percentage of total revenues do AWS, Google Cloud, and Microsoft Intelligent Cloud contribute for the three months ended September 30, 2023?'}\n",
      "Error Type: KeyError, Message: 'question'\n"
     ]
    },
    {
     "name": "stdout",
     "output_type": "stream",
     "text": [
      "\r",
      "[---------------------------->                     ] 16/28\r",
      "[----------------------------->                    ] 17/28\r",
      "[------------------------------->                  ] 18/28\r",
      "[--------------------------------->                ] 19/28\r",
      "[----------------------------------->              ] 20/28"
     ]
    },
    {
     "name": "stderr",
     "output_type": "stream",
     "text": [
      "Chain failed for example e21e7e71-e68c-4bbb-a30a-b35f7a4978ec with inputs {'Question': \"What is Alphabet's Research and development expense for the Quarter Ended September 30, 2022?\"}\n",
      "Error Type: KeyError, Message: 'question'\n",
      "Chain failed for example 652d39b8-06c6-47a1-8368-9768a12805b3 with inputs {'Question': \"What is Amazon's Diluted earnings per share for the Nine Months that Ended September 30, 2023?\"}\n",
      "Error Type: KeyError, Message: 'question'\n",
      "Chain failed for example 70045d2c-bfd8-4292-ab5f-3c5c396e3632 with inputs {'Question': 'What is the Microsoft Research and development expense for the Three Months Ended September 30, 2023?'}\n",
      "Error Type: KeyError, Message: 'question'\n",
      "Chain failed for example 83d89a67-3f81-4a4b-be67-ba5e56c070be with inputs {'Question': \"What is Datadog's Non-GAAP gross margin for the Nine Months Ended September 30, 2023?\"}\n",
      "Error Type: KeyError, Message: 'question'\n",
      "Chain failed for example 771e5284-f845-4e48-9cd8-c46bff13964c with inputs {'Question': 'How many viewers did Amazon Prime attract to the Thursday Night Football season opener?'}\n",
      "Error Type: KeyError, Message: 'question'\n"
     ]
    },
    {
     "name": "stdout",
     "output_type": "stream",
     "text": [
      "\r",
      "[------------------------------------->            ] 21/28\r",
      "[-------------------------------------->           ] 22/28\r",
      "[---------------------------------------->         ] 23/28\r",
      "[------------------------------------------>       ] 24/28\r",
      "[-------------------------------------------->     ] 25/28"
     ]
    },
    {
     "name": "stderr",
     "output_type": "stream",
     "text": [
      "Chain failed for example 4e8d1c00-ebf7-4ce4-b17a-88eb152ca20e with inputs {'Question': \"Based on Datadog's report 10 Insights on Real-World Container Use, what percentage of container organizations now run serverless containers and how does this compare to two years ago?\"}\n",
      "Error Type: KeyError, Message: 'question'\n",
      "Chain failed for example 0f1ea0a0-eab1-4c50-90c6-b25ee35e9767 with inputs {'Question': 'How long has the IRS has been estimating the size and composition of the tax gap?'}\n",
      "Error Type: KeyError, Message: 'question'\n",
      "Chain failed for example bed70228-f017-4f73-98de-3327e32eb651 with inputs {'Question': 'What are the two main resolution methods that the FDIC normally uses for failing banks?'}\n",
      "Error Type: KeyError, Message: 'question'\n"
     ]
    },
    {
     "name": "stdout",
     "output_type": "stream",
     "text": [
      "\r",
      "[--------------------------------------------->    ] 26/28\r",
      "[----------------------------------------------->  ] 27/28\r",
      "[------------------------------------------------->] 28/28"
     ]
    }
   ],
   "source": [
    "import uuid\n",
    "from langsmith.client import Client\n",
    "from langchain.smith import RunEvalConfig\n",
    "\n",
    "# Config\n",
    "client = Client()\n",
    "eval_config = RunEvalConfig(\n",
    "    evaluators=[\"cot_qa\"],\n",
    ")\n",
    "\n",
    "# Experiments\n",
    "chain_map = {\n",
    "    \"page_split\": stor_chain[\"page_split-oai\"],\n",
    "    \"baseline-50-tok\": stor_chain[\"50_tok_split-oai\"],\n",
    "    \"baseline-100-tok\": stor_chain[\"100_tok_split-oai\"],\n",
    "    \"baseline-250-tok\": stor_chain[\"250_tok_split-oai\"],\n",
    "    \"baseline-250-tok-mixtral\": stor_chain[\"250_tok_split-mixtral\"],\n",
    "}\n",
    "\n",
    "# Run evaluation\n",
    "run_id = uuid.uuid4().hex[:4]\n",
    "test_runs = {}\n",
    "for project_name, chain in chain_map.items():\n",
    "    test_runs[project_name] = client.run_on_dataset(\n",
    "        dataset_name=task.name,\n",
    "        llm_or_chain_factory=lambda: (lambda x: x[\"question\"]) | chain,\n",
    "        evaluation=eval_config,\n",
    "        verbose=True,\n",
    "        project_name=f\"{run_id}-{project_name}\",\n",
    "        project_metadata={\"chain\": project_name},\n",
    "    )"
   ]
  },
  {
   "cell_type": "code",
   "execution_count": null,
   "id": "ea3e8bd6",
   "metadata": {},
   "outputs": [],
   "source": []
  },
  {
   "cell_type": "code",
   "execution_count": null,
   "id": "82ce9a9b",
   "metadata": {},
   "outputs": [],
   "source": []
  },
  {
   "cell_type": "code",
   "execution_count": null,
   "id": "3ca58b7d",
   "metadata": {},
   "outputs": [],
   "source": []
  },
  {
   "cell_type": "code",
   "execution_count": null,
   "id": "2e51e105",
   "metadata": {},
   "outputs": [],
   "source": []
  }
 ],
 "metadata": {
  "hide_input": false,
  "kernelspec": {
   "display_name": "Python 3 (ipykernel)",
   "language": "python",
   "name": "python3"
  },
  "language_info": {
   "codemirror_mode": {
    "name": "ipython",
    "version": 3
   },
   "file_extension": ".py",
   "mimetype": "text/x-python",
   "name": "python",
   "nbconvert_exporter": "python",
   "pygments_lexer": "ipython3",
   "version": "3.11.5"
  },
  "toc": {
   "base_numbering": 1,
   "nav_menu": {},
   "number_sections": true,
   "sideBar": true,
   "skip_h1_title": false,
   "title_cell": "Table of Contents",
   "title_sidebar": "Contents",
   "toc_cell": false,
   "toc_position": {},
   "toc_section_display": true,
   "toc_window_display": false
  }
 },
 "nbformat": 4,
 "nbformat_minor": 5
}

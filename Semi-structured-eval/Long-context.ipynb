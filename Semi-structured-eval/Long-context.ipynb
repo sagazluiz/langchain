{
 "cells": [
  {
   "cell_type": "markdown",
   "id": "1ac3f3ec",
   "metadata": {
    "ExecuteTime": {
     "end_time": "2023-12-15T01:35:14.858007Z",
     "start_time": "2023-12-15T01:35:14.829471Z"
    }
   },
   "source": [
    "source: https://langchain-ai.github.io/langchain-benchmarks/notebooks/retrieval/semi_structured_benchmarking/ss_eval_long_context.html"
   ]
  },
  {
   "cell_type": "markdown",
   "id": "5c15fa46",
   "metadata": {},
   "source": [
    "# Semi-structured eval: Long-context\n",
    "Semi-structured Reports is a public dataset that contains question-answer pairs from documents with text and tables.\n",
    "\n",
    "The question-answer pairs are derived from the tables as well as some of the paragraphs in the docs.\n",
    "\n",
    "We evaluation performance of long context LLMs on this dataset."
   ]
  },
  {
   "cell_type": "code",
   "execution_count": 3,
   "id": "bef449da",
   "metadata": {
    "ExecuteTime": {
     "end_time": "2023-12-15T01:43:12.473877Z",
     "start_time": "2023-12-15T01:42:51.814893Z"
    }
   },
   "outputs": [
    {
     "name": "stdout",
     "output_type": "stream",
     "text": [
      "Enter your LANGCHAIN_API_KEY: ········\n",
      "Enter your ANTHROPIC_API_KEY: ········\n"
     ]
    }
   ],
   "source": [
    "import getpass\n",
    "import os\n",
    "\n",
    "os.environ[\"LANGCHAIN_ENDPOINT\"] = \"https://api.smith.langchain.com\"\n",
    "env_vars = [\"LANGCHAIN_API_KEY\", \"OPENAI_API_KEY\", \"ANTHROPIC_API_KEY\"]\n",
    "for var in env_vars:\n",
    "    if var not in os.environ:\n",
    "        os.environ[var] = getpass.getpass(prompt=f\"Enter your {var}: \")"
   ]
  },
  {
   "cell_type": "markdown",
   "id": "63ec42e1",
   "metadata": {},
   "source": [
    "### Dataset\n",
    "Fetch the associated PDFs from remote cache for the dataset so that we can perform ingestion."
   ]
  },
  {
   "cell_type": "code",
   "execution_count": 4,
   "id": "4908eb7a",
   "metadata": {
    "ExecuteTime": {
     "end_time": "2023-12-15T01:46:01.217884Z",
     "start_time": "2023-12-15T01:45:56.964099Z"
    }
   },
   "outputs": [],
   "source": [
    "import os\n",
    "\n",
    "from langchain_benchmarks import clone_public_dataset, registry\n",
    "from langchain_benchmarks.rag.tasks.semi_structured_reports import get_file_names\n",
    "\n",
    "# Task\n",
    "task = registry[\"Semi-structured Reports\"]\n",
    "\n",
    "# Files used\n",
    "paths = list(get_file_names())\n",
    "files = [str(p) for p in paths]"
   ]
  },
  {
   "cell_type": "markdown",
   "id": "74f49ea0",
   "metadata": {},
   "source": [
    "Clone the dataset so that it’s available in our LangSmith datasets.\n",
    "\n"
   ]
  },
  {
   "cell_type": "code",
   "execution_count": 5,
   "id": "16c9b0b2",
   "metadata": {
    "ExecuteTime": {
     "end_time": "2023-12-15T01:46:04.739512Z",
     "start_time": "2023-12-15T01:46:03.702808Z"
    }
   },
   "outputs": [
    {
     "name": "stdout",
     "output_type": "stream",
     "text": [
      "Dataset Semi-structured Reports already exists. Skipping.\n",
      "You can access the dataset at https://smith.langchain.com/o/8088c1e2-0bd7-567f-a9a3-e89380e5cb42/datasets/0aba67b4-6e39-4f9d-b586-57a963cb724d.\n"
     ]
    }
   ],
   "source": [
    "clone_public_dataset(task.dataset_id, dataset_name=task.name)"
   ]
  },
  {
   "cell_type": "markdown",
   "id": "bb493833",
   "metadata": {},
   "source": [
    "### Load\n",
    "Concatenate the documents."
   ]
  },
  {
   "cell_type": "code",
   "execution_count": 6,
   "id": "adf53c88",
   "metadata": {
    "ExecuteTime": {
     "end_time": "2023-12-15T01:46:12.947295Z",
     "start_time": "2023-12-15T01:46:09.867836Z"
    }
   },
   "outputs": [],
   "source": [
    "from langchain.document_loaders import PyPDFLoader\n",
    "\n",
    "texts = []\n",
    "for fi in files:\n",
    "    loader = PyPDFLoader(fi)\n",
    "    pdf_pages = loader.load()\n",
    "    texts.extend(pdf_pages)\n",
    "\n",
    "texts = [t.page_content for t in texts]\n",
    "text_string = \" /// New Document /// \".join(texts)"
   ]
  },
  {
   "cell_type": "markdown",
   "id": "72bfc285",
   "metadata": {},
   "source": [
    "### Run\n",
    "Create a chain for each long-context LLM where we pass in the concatenated documents."
   ]
  },
  {
   "cell_type": "code",
   "execution_count": 7,
   "id": "5cc7be87",
   "metadata": {
    "ExecuteTime": {
     "end_time": "2023-12-15T01:46:41.751715Z",
     "start_time": "2023-12-15T01:46:41.075813Z"
    }
   },
   "outputs": [],
   "source": [
    "from langchain.chat_models import ChatOpenAI\n",
    "from langchain.chat_models import ChatAnthropic\n",
    "from langchain.prompts import ChatPromptTemplate\n",
    "from langchain.schema.output_parser import StrOutputParser\n",
    "from langchain.schema.runnable import RunnablePassthrough\n",
    "\n",
    "\n",
    "def create_chain(model):\n",
    "    # Prompt template\n",
    "    template = \"\"\"Answer the question based only on the following context, which can include text and tables:\n",
    "    {context}\n",
    "    Question: {question}\n",
    "    \"\"\"\n",
    "    prompt = ChatPromptTemplate.from_template(template)\n",
    "\n",
    "    chain = (\n",
    "        {\n",
    "            \"context\": lambda x: text_string,\n",
    "            \"question\": RunnablePassthrough(),\n",
    "        }\n",
    "        | prompt\n",
    "        | model\n",
    "        | StrOutputParser()\n",
    "    )\n",
    "\n",
    "    return chain\n",
    "\n",
    "\n",
    "# OAI 128k\n",
    "model = ChatOpenAI(temperature=0, model=\"gpt-4-1106-preview\")\n",
    "chain_oai_128k = create_chain(model)\n",
    "\n",
    "# Anthropic 100k, v2\n",
    "#model = ChatAnthropic(temperature=0, model=\"claude-2\")\n",
    "#chain_claude = create_chain(model)\n",
    "\n",
    "# Anthropic 100k, v2.1\n",
    "#model = ChatAnthropic(temperature=0, model=\"claude-2.1\")\n",
    "#chain_2_1_claude = create_chain(model)"
   ]
  },
  {
   "cell_type": "markdown",
   "id": "fef738d5",
   "metadata": {},
   "source": [
    "### Eval\n",
    "Run eval onm our dataset, Semi-structured Reports."
   ]
  },
  {
   "cell_type": "code",
   "execution_count": 8,
   "id": "0cfb2389",
   "metadata": {
    "ExecuteTime": {
     "end_time": "2023-12-15T01:48:00.892160Z",
     "start_time": "2023-12-15T01:46:54.136694Z"
    }
   },
   "outputs": [
    {
     "name": "stdout",
     "output_type": "stream",
     "text": [
      "View the evaluation results for project '4f83-oai_128k' at:\n",
      "https://smith.langchain.com/o/8088c1e2-0bd7-567f-a9a3-e89380e5cb42/datasets/0aba67b4-6e39-4f9d-b586-57a963cb724d/compare?selectedSessions=6085d39c-d1b1-44fc-b628-f70d4d7b9787\n",
      "\n",
      "View all tests for Dataset Semi-structured Reports at:\n",
      "https://smith.langchain.com/o/8088c1e2-0bd7-567f-a9a3-e89380e5cb42/datasets/0aba67b4-6e39-4f9d-b586-57a963cb724d\n",
      "[>                                                 ] 0/28"
     ]
    },
    {
     "name": "stderr",
     "output_type": "stream",
     "text": [
      "Chain failed for example 813ea2d1-4316-4bfb-b1b2-43b96d545cdf with inputs {'Question': \"What was Datadog's net income for the three months that ended September 30 in 2023 and 2022?\"}\n",
      "Error Type: RateLimitError, Message: Error code: 429 - {'error': {'message': 'Request too large for gpt-4-1106-preview in organization org-BoDRB68X6JLOaFbjaoUIsGvY on tokens_usage_based per min: Limit 10000, Requested 36127. Visit https://platform.openai.com/account/rate-limits to learn more.', 'type': 'tokens_usage_based', 'param': None, 'code': 'rate_limit_exceeded'}}\n"
     ]
    },
    {
     "name": "stdout",
     "output_type": "stream",
     "text": [
      "\r",
      "[->                                                ] 1/28"
     ]
    },
    {
     "name": "stderr",
     "output_type": "stream",
     "text": [
      "Chain failed for example 80216a8b-cae9-43e3-9be6-57a6bfbaaa25 with inputs {'Question': 'How much did Datadog spend on research and development for the three months ended September 30,2023?'}\n",
      "Error Type: RateLimitError, Message: Error code: 429 - {'error': {'message': 'Request too large for gpt-4-1106-preview in organization org-BoDRB68X6JLOaFbjaoUIsGvY on tokens_usage_based per min: Limit 10000, Requested 36129. Visit https://platform.openai.com/account/rate-limits to learn more.', 'type': 'tokens_usage_based', 'param': None, 'code': 'rate_limit_exceeded'}}\n",
      "Chain failed for example dbde8588-8b03-41e2-aa09-31ab0320ea88 with inputs {'Question': 'What was Datadog’s current and non-current deferred revenue as of September 30, 2023?'}\n",
      "Error Type: RateLimitError, Message: Error code: 429 - {'error': {'message': 'Request too large for gpt-4-1106-preview in organization org-BoDRB68X6JLOaFbjaoUIsGvY on tokens_usage_based per min: Limit 10000, Requested 36126. Visit https://platform.openai.com/account/rate-limits to learn more.', 'type': 'tokens_usage_based', 'param': None, 'code': 'rate_limit_exceeded'}}\n"
     ]
    },
    {
     "name": "stdout",
     "output_type": "stream",
     "text": [
      "\r",
      "[--->                                              ] 2/28\r",
      "[---->                                             ] 3/28"
     ]
    },
    {
     "name": "stderr",
     "output_type": "stream",
     "text": [
      "Chain failed for example 45c1960f-674f-4fa8-8f2e-f04170dff3c8 with inputs {'Question': 'How much capitalized software development costs did Datadog report for the three months that ended September 30, 2023?'}\n",
      "Error Type: RateLimitError, Message: Error code: 429 - {'error': {'message': 'Request too large for gpt-4-1106-preview in organization org-BoDRB68X6JLOaFbjaoUIsGvY on tokens_usage_based per min: Limit 10000, Requested 36134. Visit https://platform.openai.com/account/rate-limits to learn more.', 'type': 'tokens_usage_based', 'param': None, 'code': 'rate_limit_exceeded'}}\n"
     ]
    },
    {
     "name": "stdout",
     "output_type": "stream",
     "text": [
      "\r",
      "[------>                                           ] 4/28"
     ]
    },
    {
     "name": "stderr",
     "output_type": "stream",
     "text": [
      "Chain failed for example 351d2a74-07f2-43b9-8077-a78106e21ae0 with inputs {'Question': 'Can you calculate the year-over-year percentage change in Datadog’s research and development spending for the three months ended September 30,2023?'}\n",
      "Error Type: RateLimitError, Message: Error code: 429 - {'error': {'message': 'Request too large for gpt-4-1106-preview in organization org-BoDRB68X6JLOaFbjaoUIsGvY on tokens_usage_based per min: Limit 10000, Requested 36141. Visit https://platform.openai.com/account/rate-limits to learn more.', 'type': 'tokens_usage_based', 'param': None, 'code': 'rate_limit_exceeded'}}\n"
     ]
    },
    {
     "name": "stdout",
     "output_type": "stream",
     "text": [
      "\r",
      "[-------->                                         ] 5/28"
     ]
    },
    {
     "name": "stderr",
     "output_type": "stream",
     "text": [
      "Chain failed for example bfc0311a-6d35-4b1c-bae0-d0e46707f849 with inputs {'Question': 'How many bank failures occurred between 2021 and 2023?'}\n",
      "Error Type: RateLimitError, Message: Error code: 429 - {'error': {'message': 'Request too large for gpt-4-1106-preview in organization org-BoDRB68X6JLOaFbjaoUIsGvY on tokens_usage_based per min: Limit 10000, Requested 36118. Visit https://platform.openai.com/account/rate-limits to learn more.', 'type': 'tokens_usage_based', 'param': None, 'code': 'rate_limit_exceeded'}}\n"
     ]
    },
    {
     "name": "stdout",
     "output_type": "stream",
     "text": [
      "\r",
      "[---------->                                       ] 6/28"
     ]
    },
    {
     "name": "stderr",
     "output_type": "stream",
     "text": [
      "Chain failed for example f274198c-baa5-4eaa-b8d8-427f486024f8 with inputs {'Question': 'What is the total amount of underreported federal tax income from 2011-2013?'}\n",
      "Error Type: RateLimitError, Message: Error code: 429 - {'error': {'message': 'Request too large for gpt-4-1106-preview in organization org-BoDRB68X6JLOaFbjaoUIsGvY on tokens_usage_based per min: Limit 10000, Requested 36123. Visit https://platform.openai.com/account/rate-limits to learn more.', 'type': 'tokens_usage_based', 'param': None, 'code': 'rate_limit_exceeded'}}\n",
      "Chain failed for example 7e5c821c-4a5c-4382-a5c6-8ba381ea49a0 with inputs {'Question': 'What were the deposits from bank failures for 2001-2020 and 2021-2023?'}\n",
      "Error Type: RateLimitError, Message: Error code: 429 - {'error': {'message': 'Request too large for gpt-4-1106-preview in organization org-BoDRB68X6JLOaFbjaoUIsGvY on tokens_usage_based per min: Limit 10000, Requested 36122. Visit https://platform.openai.com/account/rate-limits to learn more.', 'type': 'tokens_usage_based', 'param': None, 'code': 'rate_limit_exceeded'}}\n"
     ]
    },
    {
     "name": "stdout",
     "output_type": "stream",
     "text": [
      "\r",
      "[----------->                                      ] 7/28\r",
      "[------------->                                    ] 8/28"
     ]
    },
    {
     "name": "stderr",
     "output_type": "stream",
     "text": [
      "Chain failed for example 3b721362-fc29-4d14-9fa3-5aaffddf2e6d with inputs {'Question': 'Can you calculate the year-over-year percentage change in net sales for the AWS segment from 2022 to 2023 for the three months ended September 30?'}\n",
      "Error Type: RateLimitError, Message: Error code: 429 - {'error': {'message': 'Request too large for gpt-4-1106-preview in organization org-BoDRB68X6JLOaFbjaoUIsGvY on tokens_usage_based per min: Limit 10000, Requested 36141. Visit https://platform.openai.com/account/rate-limits to learn more.', 'type': 'tokens_usage_based', 'param': None, 'code': 'rate_limit_exceeded'}}\n",
      "Chain failed for example 5f0e62da-7f5f-4151-bb5f-491de60be2de with inputs {'Question': 'What factors contributed to the federal income tax gap in 2011-2013, both in percentage and dollar terms?'}\n",
      "Error Type: RateLimitError, Message: Error code: 429 - {'error': {'message': 'Request too large for gpt-4-1106-preview in organization org-BoDRB68X6JLOaFbjaoUIsGvY on tokens_usage_based per min: Limit 10000, Requested 36130. Visit https://platform.openai.com/account/rate-limits to learn more.', 'type': 'tokens_usage_based', 'param': None, 'code': 'rate_limit_exceeded'}}\n"
     ]
    },
    {
     "name": "stdout",
     "output_type": "stream",
     "text": [
      "\r",
      "[--------------->                                  ] 9/28\r",
      "[----------------->                                ] 10/28"
     ]
    },
    {
     "name": "stderr",
     "output_type": "stream",
     "text": [
      "Chain failed for example 46f2dd15-c2ab-4d0a-bf5d-4c172d3a3ae0 with inputs {'Question': 'Can you calculate the year-over-year percentage change in AWS operating income for the three months that ended September 30, 2023?'}\n",
      "Error Type: RateLimitError, Message: Error code: 429 - {'error': {'message': 'Request too large for gpt-4-1106-preview in organization org-BoDRB68X6JLOaFbjaoUIsGvY on tokens_usage_based per min: Limit 10000, Requested 36137. Visit https://platform.openai.com/account/rate-limits to learn more.', 'type': 'tokens_usage_based', 'param': None, 'code': 'rate_limit_exceeded'}}\n",
      "Chain failed for example c541c59a-cc42-4a06-8085-d44102ce2398 with inputs {'Question': 'For the three months that ended September 30, 2023, what percentage of total net sales did AWS contribute?'}\n",
      "Error Type: RateLimitError, Message: Error code: 429 - {'error': {'message': 'Request too large for gpt-4-1106-preview in organization org-BoDRB68X6JLOaFbjaoUIsGvY on tokens_usage_based per min: Limit 10000, Requested 36131. Visit https://platform.openai.com/account/rate-limits to learn more.', 'type': 'tokens_usage_based', 'param': None, 'code': 'rate_limit_exceeded'}}\n"
     ]
    },
    {
     "name": "stdout",
     "output_type": "stream",
     "text": [
      "\r",
      "[------------------->                              ] 11/28\r",
      "[-------------------->                             ] 12/28"
     ]
    },
    {
     "name": "stderr",
     "output_type": "stream",
     "text": [
      "Chain failed for example 26f099ce-6672-4fa2-aaa4-3cd65f4a3627 with inputs {'Question': 'Can you calculate the year-over-year percentage change in Amazon net product sales from 2022 to 2023 for the nine months ended September 30?'}\n",
      "Error Type: RateLimitError, Message: Error code: 429 - {'error': {'message': 'Request too large for gpt-4-1106-preview in organization org-BoDRB68X6JLOaFbjaoUIsGvY on tokens_usage_based per min: Limit 10000, Requested 36139. Visit https://platform.openai.com/account/rate-limits to learn more.', 'type': 'tokens_usage_based', 'param': None, 'code': 'rate_limit_exceeded'}}\n"
     ]
    },
    {
     "name": "stdout",
     "output_type": "stream",
     "text": [
      "\r",
      "[---------------------->                           ] 13/28"
     ]
    },
    {
     "name": "stderr",
     "output_type": "stream",
     "text": [
      "Chain failed for example f412803c-ca62-47e4-bb72-7b657d13addc with inputs {'Question': \"What was the year-over-year percentage change in revenue growth for Microsoft's Intelligent Cloud segment from 2022 to 2023 for the three months that ended September 30?\"}\n",
      "Error Type: RateLimitError, Message: Error code: 429 - {'error': {'message': 'Request too large for gpt-4-1106-preview in organization org-BoDRB68X6JLOaFbjaoUIsGvY on tokens_usage_based per min: Limit 10000, Requested 36146. Visit https://platform.openai.com/account/rate-limits to learn more.', 'type': 'tokens_usage_based', 'param': None, 'code': 'rate_limit_exceeded'}}\n"
     ]
    },
    {
     "name": "stdout",
     "output_type": "stream",
     "text": [
      "\r",
      "[------------------------>                         ] 14/28"
     ]
    },
    {
     "name": "stderr",
     "output_type": "stream",
     "text": [
      "Chain failed for example bdc56941-33cd-4ae3-94cd-5b0e59af4561 with inputs {'Question': \"For the three months ended September 30, 2023, what percentage of total revenue does Intelligent Cloud represent when considering Microsoft's three main business units (Productivity and Business Processes, Intelligent Cloud, and More Personal Computing)?\"}\n",
      "Error Type: RateLimitError, Message: Error code: 429 - {'error': {'message': 'Request too large for gpt-4-1106-preview in organization org-BoDRB68X6JLOaFbjaoUIsGvY on tokens_usage_based per min: Limit 10000, Requested 36168. Visit https://platform.openai.com/account/rate-limits to learn more.', 'type': 'tokens_usage_based', 'param': None, 'code': 'rate_limit_exceeded'}}\n"
     ]
    },
    {
     "name": "stdout",
     "output_type": "stream",
     "text": [
      "\r",
      "[-------------------------->                       ] 15/28"
     ]
    },
    {
     "name": "stderr",
     "output_type": "stream",
     "text": [
      "Chain failed for example e0fb68ab-1374-49fd-87bd-5e700b2b3439 with inputs {'Question': 'For the three months ended September 30, 2023, what percentage of total Alphabet revenues does Google Cloud comprise?'}\n",
      "Error Type: RateLimitError, Message: Error code: 429 - {'error': {'message': 'Request too large for gpt-4-1106-preview in organization org-BoDRB68X6JLOaFbjaoUIsGvY on tokens_usage_based per min: Limit 10000, Requested 36133. Visit https://platform.openai.com/account/rate-limits to learn more.', 'type': 'tokens_usage_based', 'param': None, 'code': 'rate_limit_exceeded'}}\n",
      "Chain failed for example d0916586-8647-4d98-bc7d-3f599ed785ea with inputs {'Question': 'Can you calculate the year-over-year percentage change in revenue for Google Cloud from 2022 to 2023 for the Quarter Ended September 30?'}\n",
      "Error Type: RateLimitError, Message: Error code: 429 - {'error': {'message': 'Request too large for gpt-4-1106-preview in organization org-BoDRB68X6JLOaFbjaoUIsGvY on tokens_usage_based per min: Limit 10000, Requested 36138. Visit https://platform.openai.com/account/rate-limits to learn more.', 'type': 'tokens_usage_based', 'param': None, 'code': 'rate_limit_exceeded'}}\n"
     ]
    },
    {
     "name": "stdout",
     "output_type": "stream",
     "text": [
      "\r",
      "[---------------------------->                     ] 16/28\r",
      "[----------------------------->                    ] 17/28"
     ]
    },
    {
     "name": "stderr",
     "output_type": "stream",
     "text": [
      "Chain failed for example 3518405e-b07b-4c2f-a473-fa0045c16f26 with inputs {'Question': 'For the three months ended September 30, 2022, how much revenue did Google advertising and Google Cloud account for?'}\n",
      "Error Type: RateLimitError, Message: Error code: 429 - {'error': {'message': 'Request too large for gpt-4-1106-preview in organization org-BoDRB68X6JLOaFbjaoUIsGvY on tokens_usage_based per min: Limit 10000, Requested 36133. Visit https://platform.openai.com/account/rate-limits to learn more.', 'type': 'tokens_usage_based', 'param': None, 'code': 'rate_limit_exceeded'}}\n"
     ]
    },
    {
     "name": "stdout",
     "output_type": "stream",
     "text": [
      "\r",
      "[------------------------------->                  ] 18/28"
     ]
    },
    {
     "name": "stderr",
     "output_type": "stream",
     "text": [
      "Chain failed for example 1c579a74-21b6-49f1-9a17-2dc9c5c4de80 with inputs {'Question': 'What were the revenues for AWS, Google Cloud, and Microsoft Intelligent Cloud for the three months that ended September 30, 2023?'}\n",
      "Error Type: RateLimitError, Message: Error code: 429 - {'error': {'message': 'Request too large for gpt-4-1106-preview in organization org-BoDRB68X6JLOaFbjaoUIsGvY on tokens_usage_based per min: Limit 10000, Requested 36136. Visit https://platform.openai.com/account/rate-limits to learn more.', 'type': 'tokens_usage_based', 'param': None, 'code': 'rate_limit_exceeded'}}\n"
     ]
    },
    {
     "name": "stdout",
     "output_type": "stream",
     "text": [
      "\r",
      "[--------------------------------->                ] 19/28"
     ]
    },
    {
     "name": "stderr",
     "output_type": "stream",
     "text": [
      "Chain failed for example 69d28718-2fd1-4bb8-845d-2de2af664e27 with inputs {'Question': 'What percentage of total revenues do AWS, Google Cloud, and Microsoft Intelligent Cloud contribute for the three months ended September 30, 2023?'}\n",
      "Error Type: RateLimitError, Message: Error code: 429 - {'error': {'message': 'Request too large for gpt-4-1106-preview in organization org-BoDRB68X6JLOaFbjaoUIsGvY on tokens_usage_based per min: Limit 10000, Requested 36140. Visit https://platform.openai.com/account/rate-limits to learn more.', 'type': 'tokens_usage_based', 'param': None, 'code': 'rate_limit_exceeded'}}\n"
     ]
    },
    {
     "name": "stdout",
     "output_type": "stream",
     "text": [
      "\r",
      "[----------------------------------->              ] 20/28"
     ]
    },
    {
     "name": "stderr",
     "output_type": "stream",
     "text": [
      "Chain failed for example 70045d2c-bfd8-4292-ab5f-3c5c396e3632 with inputs {'Question': 'What is the Microsoft Research and development expense for the Three Months Ended September 30, 2023?'}\n",
      "Error Type: RateLimitError, Message: Error code: 429 - {'error': {'message': 'Request too large for gpt-4-1106-preview in organization org-BoDRB68X6JLOaFbjaoUIsGvY on tokens_usage_based per min: Limit 10000, Requested 36129. Visit https://platform.openai.com/account/rate-limits to learn more.', 'type': 'tokens_usage_based', 'param': None, 'code': 'rate_limit_exceeded'}}\n",
      "Chain failed for example 652d39b8-06c6-47a1-8368-9768a12805b3 with inputs {'Question': \"What is Amazon's Diluted earnings per share for the Nine Months that Ended September 30, 2023?\"}\n",
      "Error Type: RateLimitError, Message: Error code: 429 - {'error': {'message': 'Request too large for gpt-4-1106-preview in organization org-BoDRB68X6JLOaFbjaoUIsGvY on tokens_usage_based per min: Limit 10000, Requested 36128. Visit https://platform.openai.com/account/rate-limits to learn more.', 'type': 'tokens_usage_based', 'param': None, 'code': 'rate_limit_exceeded'}}\n",
      "Chain failed for example e21e7e71-e68c-4bbb-a30a-b35f7a4978ec with inputs {'Question': \"What is Alphabet's Research and development expense for the Quarter Ended September 30, 2022?\"}\n",
      "Error Type: RateLimitError, Message: Error code: 429 - {'error': {'message': 'Request too large for gpt-4-1106-preview in organization org-BoDRB68X6JLOaFbjaoUIsGvY on tokens_usage_based per min: Limit 10000, Requested 36127. Visit https://platform.openai.com/account/rate-limits to learn more.', 'type': 'tokens_usage_based', 'param': None, 'code': 'rate_limit_exceeded'}}\n"
     ]
    },
    {
     "name": "stdout",
     "output_type": "stream",
     "text": [
      "\r",
      "[------------------------------------->            ] 21/28\r",
      "[-------------------------------------->           ] 22/28\r",
      "[---------------------------------------->         ] 23/28"
     ]
    },
    {
     "name": "stderr",
     "output_type": "stream",
     "text": [
      "Chain failed for example 83d89a67-3f81-4a4b-be67-ba5e56c070be with inputs {'Question': \"What is Datadog's Non-GAAP gross margin for the Nine Months Ended September 30, 2023?\"}\n",
      "Error Type: RateLimitError, Message: Error code: 429 - {'error': {'message': 'Request too large for gpt-4-1106-preview in organization org-BoDRB68X6JLOaFbjaoUIsGvY on tokens_usage_based per min: Limit 10000, Requested 36125. Visit https://platform.openai.com/account/rate-limits to learn more.', 'type': 'tokens_usage_based', 'param': None, 'code': 'rate_limit_exceeded'}}\n"
     ]
    },
    {
     "name": "stdout",
     "output_type": "stream",
     "text": [
      "\r",
      "[------------------------------------------>       ] 24/28"
     ]
    },
    {
     "name": "stderr",
     "output_type": "stream",
     "text": [
      "Chain failed for example 771e5284-f845-4e48-9cd8-c46bff13964c with inputs {'Question': 'How many viewers did Amazon Prime attract to the Thursday Night Football season opener?'}\n",
      "Error Type: RateLimitError, Message: Error code: 429 - {'error': {'message': 'Request too large for gpt-4-1106-preview in organization org-BoDRB68X6JLOaFbjaoUIsGvY on tokens_usage_based per min: Limit 10000, Requested 36126. Visit https://platform.openai.com/account/rate-limits to learn more.', 'type': 'tokens_usage_based', 'param': None, 'code': 'rate_limit_exceeded'}}\n"
     ]
    },
    {
     "name": "stdout",
     "output_type": "stream",
     "text": [
      "\r",
      "[-------------------------------------------->     ] 25/28"
     ]
    },
    {
     "name": "stderr",
     "output_type": "stream",
     "text": [
      "Chain failed for example bed70228-f017-4f73-98de-3327e32eb651 with inputs {'Question': 'What are the two main resolution methods that the FDIC normally uses for failing banks?'}\n",
      "Error Type: RateLimitError, Message: Error code: 429 - {'error': {'message': 'Request too large for gpt-4-1106-preview in organization org-BoDRB68X6JLOaFbjaoUIsGvY on tokens_usage_based per min: Limit 10000, Requested 36126. Visit https://platform.openai.com/account/rate-limits to learn more.', 'type': 'tokens_usage_based', 'param': None, 'code': 'rate_limit_exceeded'}}\n",
      "Chain failed for example 0f1ea0a0-eab1-4c50-90c6-b25ee35e9767 with inputs {'Question': 'How long has the IRS has been estimating the size and composition of the tax gap?'}\n",
      "Error Type: RateLimitError, Message: Error code: 429 - {'error': {'message': 'Rate limit reached for gpt-4-1106-preview in organization org-BoDRB68X6JLOaFbjaoUIsGvY on requests per min (RPM): Limit 40, Used 40, Requested 1. Please try again in 1.5s. Visit https://platform.openai.com/account/rate-limits to learn more.', 'type': 'requests', 'param': None, 'code': 'rate_limit_exceeded'}}\n"
     ]
    },
    {
     "name": "stdout",
     "output_type": "stream",
     "text": [
      "\r",
      "[--------------------------------------------->    ] 26/28\r",
      "[----------------------------------------------->  ] 27/28"
     ]
    },
    {
     "name": "stderr",
     "output_type": "stream",
     "text": [
      "Chain failed for example 4e8d1c00-ebf7-4ce4-b17a-88eb152ca20e with inputs {'Question': \"Based on Datadog's report 10 Insights on Real-World Container Use, what percentage of container organizations now run serverless containers and how does this compare to two years ago?\"}\n",
      "Error Type: RateLimitError, Message: Error code: 429 - {'error': {'message': 'Request too large for gpt-4-1106-preview in organization org-BoDRB68X6JLOaFbjaoUIsGvY on tokens_usage_based per min: Limit 10000, Requested 36150. Visit https://platform.openai.com/account/rate-limits to learn more.', 'type': 'tokens_usage_based', 'param': None, 'code': 'rate_limit_exceeded'}}\n"
     ]
    },
    {
     "name": "stdout",
     "output_type": "stream",
     "text": [
      "\r",
      "[------------------------------------------------->] 28/28"
     ]
    }
   ],
   "source": [
    "import uuid\n",
    "from langsmith.client import Client\n",
    "from langchain.smith import RunEvalConfig\n",
    "\n",
    "# Config\n",
    "client = Client()\n",
    "eval_config = RunEvalConfig(\n",
    "    evaluators=[\"cot_qa\"],\n",
    ")\n",
    "\n",
    "# Experiments\n",
    "chain_map = {\n",
    "    \"oai_128k\": chain_oai_128k,\n",
    "#    \"claude2_100k_v2\": chain_claude,\n",
    "#    \"claude2_100k_v2.1\": chain_2_1_claude,\n",
    "}\n",
    "\n",
    "# Run evaluation\n",
    "run_id = uuid.uuid4().hex[:4]\n",
    "test_runs = {}\n",
    "for project_name, chain in chain_map.items():\n",
    "    test_runs[project_name] = client.run_on_dataset(\n",
    "        dataset_name=task.name,\n",
    "        llm_or_chain_factory=lambda: (lambda x: x[\"Question\"]) | chain,\n",
    "        evaluation=eval_config,\n",
    "        verbose=True,\n",
    "        project_name=f\"{run_id}-{project_name}\",\n",
    "        project_metadata={\"chain\": project_name},\n",
    "    )"
   ]
  },
  {
   "cell_type": "markdown",
   "id": "8fffe903",
   "metadata": {},
   "source": [
    "### Failure Analysis\n",
    "Look at failures for GPT-4 128k wrt the answer location in the context.\n",
    "\n",
    "Prior work has done this for long context LLMs."
   ]
  },
  {
   "cell_type": "code",
   "execution_count": 11,
   "id": "ef422549",
   "metadata": {
    "ExecuteTime": {
     "end_time": "2023-12-15T01:48:45.421859Z",
     "start_time": "2023-12-15T01:48:42.687660Z"
    }
   },
   "outputs": [
    {
     "data": {
      "image/png": "[encoded data removed]",
      "text/plain": [
       "<Figure size 100x1000 with 2 Axes>"
      ]
     },
     "metadata": {},
     "output_type": "display_data"
    }
   ],
   "source": [
    "import numpy as np\n",
    "import matplotlib.pyplot as plt\n",
    "\n",
    "\n",
    "def find_all_phrase_locations(phrases, text):\n",
    "    \"\"\"\n",
    "    # Function to find all locations of each phrase in the text string\n",
    "    \"\"\"\n",
    "    locations = []\n",
    "    for phrase in phrases:\n",
    "        start = 0\n",
    "        while start < len(text):\n",
    "            start = text.find(phrase, start)\n",
    "            if start == -1:  # No more occurrences\n",
    "                break\n",
    "            # Convert location to percentage of the document\n",
    "            location_percent = (start / len(text)) * 100\n",
    "            locations.append(location_percent)\n",
    "            start += len(phrase)  # Move past this occurrence\n",
    "    return locations\n",
    "\n",
    "\n",
    "# Unique statments related to each failed question\n",
    "short_phrase_list = [\n",
    "    \"Booking.com, GoDaddy\",  # AWS question\n",
    "    \"MICROSOFT CORPORATIONINCOME STATEMENTS\",  # MSFT\n",
    "    \"Operating income $ 5,403\",  # AWS question\n",
    "    \"Net sales $ 20,538 $ 23,059\",  # AWS question\n",
    "    \"Research and development (1)(3) 240,225  205,388\",  # DDOG\n",
    "    \"Net sales $ 78,843 $ 87,887\",  # AWS question\n",
    "]\n",
    "\n",
    "# Finding all the locations of each phrase in the text_string\n",
    "phrase_locations = find_all_phrase_locations(short_phrase_list, text_string)\n",
    "\n",
    "# Create a 2D matrix for heatmap\n",
    "heatmap_matrix = np.zeros((1, 100))\n",
    "for location in phrase_locations:\n",
    "    segment = int(location)\n",
    "    heatmap_matrix[0, segment] += 1  # Increment the count for the segment\n",
    "\n",
    "# Invert the matrix so that x and y are flipped\n",
    "inverted_heatmap_matrix = np.transpose(heatmap_matrix)\n",
    "\n",
    "# Plotting the inverted heatmap\n",
    "fig, ax = plt.subplots(figsize=(1, 10))  # Adjust figure size to make x-axis narrower\n",
    "cax = ax.imshow(\n",
    "    inverted_heatmap_matrix,\n",
    "    cmap=\"Reds\",\n",
    "    aspect=\"auto\",\n",
    "    vmin=0,\n",
    "    vmax=inverted_heatmap_matrix.max(),\n",
    ")\n",
    "fig.colorbar(cax, label=\"# of questions\", orientation=\"horizontal\")\n",
    "ax.set_ylabel(\"Percentage of Document\")\n",
    "ax.set_xticks([])\n",
    "plt.show()"
   ]
  },
  {
   "cell_type": "code",
   "execution_count": null,
   "id": "709f50ff",
   "metadata": {},
   "outputs": [],
   "source": []
  },
  {
   "cell_type": "code",
   "execution_count": null,
   "id": "9f3ad5e2",
   "metadata": {},
   "outputs": [],
   "source": []
  },
  {
   "cell_type": "code",
   "execution_count": null,
   "id": "5a48f87a",
   "metadata": {},
   "outputs": [],
   "source": []
  }
 ],
 "metadata": {
  "hide_input": false,
  "kernelspec": {
   "display_name": "Python 3 (ipykernel)",
   "language": "python",
   "name": "python3"
  },
  "language_info": {
   "codemirror_mode": {
    "name": "ipython",
    "version": 3
   },
   "file_extension": ".py",
   "mimetype": "text/x-python",
   "name": "python",
   "nbconvert_exporter": "python",
   "pygments_lexer": "ipython3",
   "version": "3.11.5"
  },
  "toc": {
   "base_numbering": 1,
   "nav_menu": {},
   "number_sections": true,
   "sideBar": true,
   "skip_h1_title": true,
   "title_cell": "Table of Contents",
   "title_sidebar": "Contents",
   "toc_cell": false,
   "toc_position": {
    "height": "calc(100% - 180px)",
    "left": "10px",
    "top": "150px",
    "width": "286.2px"
   },
   "toc_section_display": true,
   "toc_window_display": false
  }
 },
 "nbformat": 4,
 "nbformat_minor": 5
}

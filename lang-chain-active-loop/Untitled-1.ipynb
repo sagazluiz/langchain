{
 "cells": [
  {
   "cell_type": "code",
   "execution_count": 1,
   "metadata": {},
   "outputs": [],
   "source": [
    "from langchain.llms import OpenAI"
   ]
  },
  {
   "cell_type": "code",
   "execution_count": 2,
   "metadata": {},
   "outputs": [],
   "source": [
    "# Before executing the following code, make sure to have\n",
    "# your OpenAI key saved in the “OPENAI_API_KEY” environment variable.\n",
    "llm = OpenAI(model=\"text-davinci-003\", temperature=0.9)"
   ]
  },
  {
   "cell_type": "code",
   "execution_count": 3,
   "metadata": {},
   "outputs": [
    {
     "name": "stdout",
     "output_type": "stream",
     "text": [
      "\n",
      "\n",
      "1. Start off with a 10 minute warm up by jogging slowly for 3 minutes, then alternating 30 seconds of sprinting with 1 minute of jogging for the remainder of the warm up.\n",
      "\n",
      "2. Do a HIIT (High Intensity Interval Training) circuit of 5-8 exercises including mountain climbers, burpees, squat jumps, jumping jacks, push-ups, and planks for 30 seconds each, resting for 1 minute between sets.\n",
      "\n",
      "3. Go for a 30 minute jog around your neighborhood or a local park, keeping a steady pace throughout.\n",
      "\n",
      "4. Finish with a 10 minute cool down including static stretching and deep breathing exercises.  \n",
      "\n",
      "Repeat this workout 3-4 times per week to start seeing improvements in your cardiovascular endurance. Additionally, mix in activities like biking, swimming, and kayaking to keep your workouts fresh and to keep challenging your body.\n"
     ]
    }
   ],
   "source": [
    "text = \"Suggest a personalized workout routine for someone looking to improve cardiovascular endurance and prefers outdoor activities.\"\n",
    "print(llm(text))"
   ]
  },
  {
   "cell_type": "code",
   "execution_count": null,
   "metadata": {},
   "outputs": [],
   "source": []
  },
  {
   "cell_type": "code",
   "execution_count": null,
   "metadata": {},
   "outputs": [],
   "source": []
  },
  {
   "cell_type": "code",
   "execution_count": null,
   "metadata": {},
   "outputs": [],
   "source": []
  },
  {
   "cell_type": "code",
   "execution_count": null,
   "metadata": {},
   "outputs": [],
   "source": []
  }
 ],
 "metadata": {
  "kernelspec": {
   "display_name": "Python 3",
   "language": "python",
   "name": "python3"
  },
  "language_info": {
   "codemirror_mode": {
    "name": "ipython",
    "version": 3
   },
   "file_extension": ".py",
   "mimetype": "text/x-python",
   "name": "python",
   "nbconvert_exporter": "python",
   "pygments_lexer": "ipython3",
   "version": "3.10.10"
  },
  "orig_nbformat": 4
 },
 "nbformat": 4,
 "nbformat_minor": 2
}
